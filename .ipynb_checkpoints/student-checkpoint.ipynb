{
 "cells": [
  {
   "cell_type": "markdown",
   "metadata": {},
   "source": [
    "## Final Project Submission\n",
    "\n",
    "Please fill out:\n",
    "* Student name: **Peter Muthoma**\n",
    "* Student pace: **Part time**\n",
    "* Scheduled project review date/time: \n",
    "* Instructor name: **Asha Deen**\n",
    "* Blog post URL:\n"
   ]
  },
  {
   "cell_type": "markdown",
   "metadata": {},
   "source": [
    "### Problem Statement\n",
    "Microsoft sees all the big companies creating original video content and they want to get in on the fun. They have decided to create a new movie studio, but they don’t know anything about creating movies. \n",
    "In this project we will:\n",
    "* Explore what types of films are currently doing the best at the box office. \n",
    "* Translate those findings into actionable insights that the head of Microsoft's new movie studio can use to help decide what type of films to create.\n",
    "\n",
    "This will mainly be done using exploratory data analysis"
   ]
  },
  {
   "cell_type": "markdown",
   "metadata": {},
   "source": [
    "### Exploratory Data Analysis\n",
    "I have narrowed down our data to three datasets that I will use to accomplish our goal in this project\n",
    "* 1. \"bom.movie_gross.csv.gz\" we will refer to it as **Movie Gross Data** ,this is a csv data with a list of movies and the gross income for each for both foreign and local markets\n",
    "* 2.  \"imdb.title.basics.csv.gz\" we will refer to it as **Title Data**, this is a csv data with info such as genres, runtime_minutes for each movies, start_year, original_title and primary_title\n",
    "* 3. \"imdb.title.ratings.csv.gz\" we will refer to it as **Rating Data** this data contain more info about movies rating\n",
    "\n",
    "For this data EDA we will start by loadind all the necesarry libraries that we will use in this project the load and data clean all the datasets in preparation for data analysis"
   ]
  },
  {
   "cell_type": "code",
   "execution_count": 1,
   "metadata": {
    "scrolled": false
   },
   "outputs": [],
   "source": [
    "#Importing necessary libraries\n",
    "import pandas as pd\n",
    "import gzip\n",
    "import numpy as np\n",
    "import matplotlib.pyplot as plt\n",
    "import seaborn as sns"
   ]
  },
  {
   "cell_type": "markdown",
   "metadata": {},
   "source": [
    "All our data is zipped, we need to first unzip it before converting it into a data Frame\n",
    "We will start by the Movie Gross.\n",
    "\n",
    "### Movie Gross Data\n",
    "#### Cleaning and Analysis"
   ]
  },
  {
   "cell_type": "code",
   "execution_count": 2,
   "metadata": {},
   "outputs": [
    {
     "data": {
      "text/html": [
       "<div>\n",
       "<style scoped>\n",
       "    .dataframe tbody tr th:only-of-type {\n",
       "        vertical-align: middle;\n",
       "    }\n",
       "\n",
       "    .dataframe tbody tr th {\n",
       "        vertical-align: top;\n",
       "    }\n",
       "\n",
       "    .dataframe thead th {\n",
       "        text-align: right;\n",
       "    }\n",
       "</style>\n",
       "<table border=\"1\" class=\"dataframe\">\n",
       "  <thead>\n",
       "    <tr style=\"text-align: right;\">\n",
       "      <th></th>\n",
       "      <th>title</th>\n",
       "      <th>studio</th>\n",
       "      <th>domestic_gross</th>\n",
       "      <th>foreign_gross</th>\n",
       "      <th>year</th>\n",
       "    </tr>\n",
       "  </thead>\n",
       "  <tbody>\n",
       "    <tr>\n",
       "      <th>0</th>\n",
       "      <td>Toy Story 3</td>\n",
       "      <td>BV</td>\n",
       "      <td>415000000.0</td>\n",
       "      <td>652000000</td>\n",
       "      <td>2010</td>\n",
       "    </tr>\n",
       "    <tr>\n",
       "      <th>1</th>\n",
       "      <td>Alice in Wonderland (2010)</td>\n",
       "      <td>BV</td>\n",
       "      <td>334200000.0</td>\n",
       "      <td>691300000</td>\n",
       "      <td>2010</td>\n",
       "    </tr>\n",
       "    <tr>\n",
       "      <th>2</th>\n",
       "      <td>Harry Potter and the Deathly Hallows Part 1</td>\n",
       "      <td>WB</td>\n",
       "      <td>296000000.0</td>\n",
       "      <td>664300000</td>\n",
       "      <td>2010</td>\n",
       "    </tr>\n",
       "    <tr>\n",
       "      <th>3</th>\n",
       "      <td>Inception</td>\n",
       "      <td>WB</td>\n",
       "      <td>292600000.0</td>\n",
       "      <td>535700000</td>\n",
       "      <td>2010</td>\n",
       "    </tr>\n",
       "    <tr>\n",
       "      <th>4</th>\n",
       "      <td>Shrek Forever After</td>\n",
       "      <td>P/DW</td>\n",
       "      <td>238700000.0</td>\n",
       "      <td>513900000</td>\n",
       "      <td>2010</td>\n",
       "    </tr>\n",
       "  </tbody>\n",
       "</table>\n",
       "</div>"
      ],
      "text/plain": [
       "                                         title studio  domestic_gross  \\\n",
       "0                                  Toy Story 3     BV     415000000.0   \n",
       "1                   Alice in Wonderland (2010)     BV     334200000.0   \n",
       "2  Harry Potter and the Deathly Hallows Part 1     WB     296000000.0   \n",
       "3                                    Inception     WB     292600000.0   \n",
       "4                          Shrek Forever After   P/DW     238700000.0   \n",
       "\n",
       "  foreign_gross  year  \n",
       "0     652000000  2010  \n",
       "1     691300000  2010  \n",
       "2     664300000  2010  \n",
       "3     535700000  2010  \n",
       "4     513900000  2010  "
      ]
     },
     "execution_count": 2,
     "metadata": {},
     "output_type": "execute_result"
    }
   ],
   "source": [
    "#opening the zipped movie gross and creating a dataframe \n",
    "with gzip.open('bom.movie_gross.csv.gz', 'rb') as f:\n",
    "    df_Movie_gross = pd.read_csv(f)\n",
    "\n",
    "df_Movie_gross.head(5)"
   ]
  },
  {
   "cell_type": "code",
   "execution_count": 3,
   "metadata": {
    "scrolled": true
   },
   "outputs": [
    {
     "name": "stdout",
     "output_type": "stream",
     "text": [
      "<class 'pandas.core.frame.DataFrame'>\n",
      "RangeIndex: 3387 entries, 0 to 3386\n",
      "Data columns (total 5 columns):\n",
      " #   Column          Non-Null Count  Dtype  \n",
      "---  ------          --------------  -----  \n",
      " 0   title           3387 non-null   object \n",
      " 1   studio          3382 non-null   object \n",
      " 2   domestic_gross  3359 non-null   float64\n",
      " 3   foreign_gross   2037 non-null   object \n",
      " 4   year            3387 non-null   int64  \n",
      "dtypes: float64(1), int64(1), object(3)\n",
      "memory usage: 132.4+ KB\n"
     ]
    }
   ],
   "source": [
    "#checking more info about movie gross data\n",
    "df_Movie_gross.info()"
   ]
  },
  {
   "cell_type": "markdown",
   "metadata": {},
   "source": [
    "We can tell the following from the above info\n",
    "* studio, foreign_gross and domestic_gross have missig data\n",
    "* foreign_gross has the wrong data type(object)\n",
    "\n",
    "We can now convert foreign_gross into a int64 to allow us to do aggregation analysis on the column"
   ]
  },
  {
   "cell_type": "code",
   "execution_count": 4,
   "metadata": {
    "scrolled": true
   },
   "outputs": [
    {
     "name": "stdout",
     "output_type": "stream",
     "text": [
      "<class 'pandas.core.frame.DataFrame'>\n",
      "RangeIndex: 3387 entries, 0 to 3386\n",
      "Data columns (total 5 columns):\n",
      " #   Column          Non-Null Count  Dtype  \n",
      "---  ------          --------------  -----  \n",
      " 0   title           3387 non-null   object \n",
      " 1   studio          3382 non-null   object \n",
      " 2   domestic_gross  3359 non-null   float64\n",
      " 3   foreign_gross   2032 non-null   Int64  \n",
      " 4   year            3387 non-null   int64  \n",
      "dtypes: Int64(1), float64(1), int64(1), object(2)\n",
      "memory usage: 135.7+ KB\n"
     ]
    }
   ],
   "source": [
    "df_Movie_gross['foreign_gross'] = pd.to_numeric(df_Movie_gross['foreign_gross'], errors='coerce').astype(float).astype('Int64')\n",
    "df_Movie_gross.info()"
   ]
  },
  {
   "cell_type": "code",
   "execution_count": 5,
   "metadata": {},
   "outputs": [],
   "source": [
    "# Convert 'foreign_gross' from int64 to float64\n",
    "df_Movie_gross['foreign_gross'] = df_Movie_gross['foreign_gross'].astype(float)"
   ]
  },
  {
   "cell_type": "code",
   "execution_count": 6,
   "metadata": {},
   "outputs": [
    {
     "data": {
      "text/html": [
       "<div>\n",
       "<style scoped>\n",
       "    .dataframe tbody tr th:only-of-type {\n",
       "        vertical-align: middle;\n",
       "    }\n",
       "\n",
       "    .dataframe tbody tr th {\n",
       "        vertical-align: top;\n",
       "    }\n",
       "\n",
       "    .dataframe thead th {\n",
       "        text-align: right;\n",
       "    }\n",
       "</style>\n",
       "<table border=\"1\" class=\"dataframe\">\n",
       "  <thead>\n",
       "    <tr style=\"text-align: right;\">\n",
       "      <th></th>\n",
       "      <th>domestic_gross</th>\n",
       "      <th>foreign_gross</th>\n",
       "      <th>year</th>\n",
       "    </tr>\n",
       "  </thead>\n",
       "  <tbody>\n",
       "    <tr>\n",
       "      <th>count</th>\n",
       "      <td>3.359000e+03</td>\n",
       "      <td>2.032000e+03</td>\n",
       "      <td>3387.000000</td>\n",
       "    </tr>\n",
       "    <tr>\n",
       "      <th>mean</th>\n",
       "      <td>2.874585e+07</td>\n",
       "      <td>7.505704e+07</td>\n",
       "      <td>2013.958075</td>\n",
       "    </tr>\n",
       "    <tr>\n",
       "      <th>std</th>\n",
       "      <td>6.698250e+07</td>\n",
       "      <td>1.375294e+08</td>\n",
       "      <td>2.478141</td>\n",
       "    </tr>\n",
       "    <tr>\n",
       "      <th>min</th>\n",
       "      <td>1.000000e+02</td>\n",
       "      <td>6.000000e+02</td>\n",
       "      <td>2010.000000</td>\n",
       "    </tr>\n",
       "    <tr>\n",
       "      <th>25%</th>\n",
       "      <td>1.200000e+05</td>\n",
       "      <td>3.775000e+06</td>\n",
       "      <td>2012.000000</td>\n",
       "    </tr>\n",
       "    <tr>\n",
       "      <th>50%</th>\n",
       "      <td>1.400000e+06</td>\n",
       "      <td>1.890000e+07</td>\n",
       "      <td>2014.000000</td>\n",
       "    </tr>\n",
       "    <tr>\n",
       "      <th>75%</th>\n",
       "      <td>2.790000e+07</td>\n",
       "      <td>7.505000e+07</td>\n",
       "      <td>2016.000000</td>\n",
       "    </tr>\n",
       "    <tr>\n",
       "      <th>max</th>\n",
       "      <td>9.367000e+08</td>\n",
       "      <td>9.605000e+08</td>\n",
       "      <td>2018.000000</td>\n",
       "    </tr>\n",
       "  </tbody>\n",
       "</table>\n",
       "</div>"
      ],
      "text/plain": [
       "       domestic_gross  foreign_gross         year\n",
       "count    3.359000e+03   2.032000e+03  3387.000000\n",
       "mean     2.874585e+07   7.505704e+07  2013.958075\n",
       "std      6.698250e+07   1.375294e+08     2.478141\n",
       "min      1.000000e+02   6.000000e+02  2010.000000\n",
       "25%      1.200000e+05   3.775000e+06  2012.000000\n",
       "50%      1.400000e+06   1.890000e+07  2014.000000\n",
       "75%      2.790000e+07   7.505000e+07  2016.000000\n",
       "max      9.367000e+08   9.605000e+08  2018.000000"
      ]
     },
     "execution_count": 6,
     "metadata": {},
     "output_type": "execute_result"
    }
   ],
   "source": [
    "df_Movie_gross.describe()"
   ]
  },
  {
   "cell_type": "code",
   "execution_count": 7,
   "metadata": {
    "scrolled": true
   },
   "outputs": [
    {
     "data": {
      "text/plain": [
       "title                0\n",
       "studio               5\n",
       "domestic_gross      28\n",
       "foreign_gross     1355\n",
       "year                 0\n",
       "dtype: int64"
      ]
     },
     "execution_count": 7,
     "metadata": {},
     "output_type": "execute_result"
    }
   ],
   "source": [
    "df_Movie_gross.isna().sum()"
   ]
  },
  {
   "cell_type": "code",
   "execution_count": 8,
   "metadata": {},
   "outputs": [
    {
     "data": {
      "image/png": "[encoded data removed]",
      "text/plain": [
       "<Figure size 432x288 with 2 Axes>"
      ]
     },
     "metadata": {
      "needs_background": "light"
     },
     "output_type": "display_data"
    }
   ],
   "source": [
    "sns.heatmap(df_Movie_gross.isnull())\n",
    "plt.show()"
   ]
  },
  {
   "cell_type": "code",
   "execution_count": 9,
   "metadata": {},
   "outputs": [],
   "source": [
    "df_Movie_gross['foreign_gross'] = df_Movie_gross['foreign_gross'].astype(pd.Int64Dtype())\n"
   ]
  },
  {
   "cell_type": "markdown",
   "metadata": {},
   "source": [
    "### Dealing with Movies Gross missing data\n",
    "\n",
    "From the above data we can easily tell that Foreign_gross column has the most missing data of about 40% while studio and domestic_gross is missing 0.1% and 0.8%. I then proceeded to fill the missing data with the mean since the missing data will not wildly affect the data"
   ]
  },
  {
   "cell_type": "code",
   "execution_count": 10,
   "metadata": {
    "scrolled": true
   },
   "outputs": [
    {
     "data": {
      "text/html": [
       "<div>\n",
       "<style scoped>\n",
       "    .dataframe tbody tr th:only-of-type {\n",
       "        vertical-align: middle;\n",
       "    }\n",
       "\n",
       "    .dataframe tbody tr th {\n",
       "        vertical-align: top;\n",
       "    }\n",
       "\n",
       "    .dataframe thead th {\n",
       "        text-align: right;\n",
       "    }\n",
       "</style>\n",
       "<table border=\"1\" class=\"dataframe\">\n",
       "  <thead>\n",
       "    <tr style=\"text-align: right;\">\n",
       "      <th></th>\n",
       "      <th>title</th>\n",
       "      <th>studio</th>\n",
       "      <th>domestic_gross</th>\n",
       "      <th>foreign_gross</th>\n",
       "      <th>year</th>\n",
       "    </tr>\n",
       "  </thead>\n",
       "  <tbody>\n",
       "    <tr>\n",
       "      <th>0</th>\n",
       "      <td>Toy Story 3</td>\n",
       "      <td>BV</td>\n",
       "      <td>415000000.0</td>\n",
       "      <td>652000000.0</td>\n",
       "      <td>2010</td>\n",
       "    </tr>\n",
       "    <tr>\n",
       "      <th>1</th>\n",
       "      <td>Alice in Wonderland (2010)</td>\n",
       "      <td>BV</td>\n",
       "      <td>334200000.0</td>\n",
       "      <td>691300000.0</td>\n",
       "      <td>2010</td>\n",
       "    </tr>\n",
       "    <tr>\n",
       "      <th>2</th>\n",
       "      <td>Harry Potter and the Deathly Hallows Part 1</td>\n",
       "      <td>WB</td>\n",
       "      <td>296000000.0</td>\n",
       "      <td>664300000.0</td>\n",
       "      <td>2010</td>\n",
       "    </tr>\n",
       "    <tr>\n",
       "      <th>3</th>\n",
       "      <td>Inception</td>\n",
       "      <td>WB</td>\n",
       "      <td>292600000.0</td>\n",
       "      <td>535700000.0</td>\n",
       "      <td>2010</td>\n",
       "    </tr>\n",
       "    <tr>\n",
       "      <th>4</th>\n",
       "      <td>Shrek Forever After</td>\n",
       "      <td>P/DW</td>\n",
       "      <td>238700000.0</td>\n",
       "      <td>513900000.0</td>\n",
       "      <td>2010</td>\n",
       "    </tr>\n",
       "  </tbody>\n",
       "</table>\n",
       "</div>"
      ],
      "text/plain": [
       "                                         title studio  domestic_gross  \\\n",
       "0                                  Toy Story 3     BV     415000000.0   \n",
       "1                   Alice in Wonderland (2010)     BV     334200000.0   \n",
       "2  Harry Potter and the Deathly Hallows Part 1     WB     296000000.0   \n",
       "3                                    Inception     WB     292600000.0   \n",
       "4                          Shrek Forever After   P/DW     238700000.0   \n",
       "\n",
       "   foreign_gross  year  \n",
       "0    652000000.0  2010  \n",
       "1    691300000.0  2010  \n",
       "2    664300000.0  2010  \n",
       "3    535700000.0  2010  \n",
       "4    513900000.0  2010  "
      ]
     },
     "execution_count": 10,
     "metadata": {},
     "output_type": "execute_result"
    }
   ],
   "source": [
    "# Convert 'foreign_gross' from int64 to float64\n",
    "df_Movie_gross['foreign_gross'] = df_Movie_gross['foreign_gross'].astype(float)\n",
    "\n",
    "#Filling missing data in domestic_gross with the mean\n",
    "df_Movie_gross['domestic_gross'].fillna(df_Movie_gross['domestic_gross'].mean(), inplace=True)\n",
    "\n",
    "#Filling missing data in foreign_gross with the mean\n",
    "df_Movie_gross['foreign_gross'].fillna(df_Movie_gross['foreign_gross'].mean(), inplace=True)\n",
    "\n",
    "#Filling missing data in domestic_gross with the mode\n",
    "df_Movie_gross['studio'].fillna(df_Movie_gross['studio'].mode().iloc[0], inplace=True)\n",
    "\n",
    "#checking Movie_gross for the changes\n",
    "df_Movie_gross.head(5)\n"
   ]
  },
  {
   "cell_type": "markdown",
   "metadata": {},
   "source": [
    "### Getting the top 5 studios based on both Foreign and Domestic Gross\n",
    "We will try to see which movie studios have the highest gross for both domestic and foreign markets."
   ]
  },
  {
   "cell_type": "code",
   "execution_count": 11,
   "metadata": {},
   "outputs": [
    {
     "name": "stdout",
     "output_type": "stream",
     "text": [
      "      studio  foreign_gross  domestic_gross\n",
      "36        BV   2.609408e+10    1.841903e+10\n",
      "238     Uni.   1.730511e+10    1.290239e+10\n",
      "246       WB   1.941847e+10    1.216805e+10\n",
      "93       Fox   2.020598e+10    1.094950e+10\n",
      "215     Sony   1.424558e+10    8.488429e+09\n",
      "185     Par.   1.238878e+10    7.685871e+09\n",
      "134      LGF   5.608475e+09    4.147709e+09\n",
      "247  WB (NL)   6.414057e+09    3.995700e+09\n",
      "133     LG/S   3.653952e+09    2.078200e+09\n",
      "171     P/DW   3.393600e+09    1.682900e+09\n",
      "      studio  foreign_gross  domestic_gross\n",
      "36        BV   2.609408e+10    1.841903e+10\n",
      "93       Fox   2.020598e+10    1.094950e+10\n",
      "246       WB   1.941847e+10    1.216805e+10\n",
      "238     Uni.   1.730511e+10    1.290239e+10\n",
      "215     Sony   1.424558e+10    8.488429e+09\n",
      "185     Par.   1.238878e+10    7.685871e+09\n",
      "113      IFC   7.961977e+09    1.703292e+08\n",
      "148    Magn.   6.584749e+09    6.355970e+07\n",
      "247  WB (NL)   6.414057e+09    3.995700e+09\n",
      "78      Eros   5.969254e+09    8.405510e+07\n"
     ]
    },
    {
     "data": {
      "image/png": "[encoded data removed]",
      "text/plain": [
       "<Figure size 864x432 with 2 Axes>"
      ]
     },
     "metadata": {
      "needs_background": "light"
     },
     "output_type": "display_data"
    }
   ],
   "source": [
    "# Grouping by 'studio' and calculate the total 'foreign_gross' and 'domestic_gross' for each studio\n",
    "grp_studios = df_Movie_gross.groupby('studio').agg({\n",
    "    'foreign_gross': 'sum',\n",
    "    'domestic_gross': 'sum'\n",
    "}).reset_index()\n",
    "\n",
    "# Sorting foreign and domestic gross for all studios in descending order\n",
    "sorted_studios_by_foreign_gross = grp_studios.sort_values(by='foreign_gross', ascending=False)\n",
    "sorted_studios_by_domestic_gross = grp_studios.sort_values(by='domestic_gross', ascending=False)\n",
    "\n",
    "#Selecting the top 10 studios with the highest foreign and domestic gross\n",
    "top10_studios_foreign_gross = sorted_studios_by_foreign_gross.head(10)\n",
    "top10_studios_domestic_gross = sorted_studios_by_domestic_gross.head(10)\n",
    "\n",
    "print(sorted_studios_by_domestic_gross.head(10))\n",
    "print(sorted_studios_by_foreign_gross.head(10))\n",
    "\n",
    "# now plotting the graphs to visualize\n",
    "plt.figure(figsize=(12, 6))\n",
    "\n",
    "# Bar plot for the top 10 studios with highest 'foreign_gross'\n",
    "plt.subplot(1, 2, 1)\n",
    "sns.barplot(x='foreign_gross', y='studio', data=top10_studios_foreign_gross, palette='viridis')\n",
    "plt.title('Top Studios by Foreign Gross')\n",
    "plt.xlabel('Total Foreign Gross')\n",
    "plt.ylabel('Studio')\n",
    "\n",
    "# Bar plot for the top 10 studios with highest 'domestic_gross'\n",
    "plt.subplot(1, 2, 2)\n",
    "sns.barplot(x='domestic_gross', y='studio', data=top10_studios_domestic_gross, palette='magma')\n",
    "plt.title('Top Studios by Domestic Gross')\n",
    "plt.xlabel('Total Domestic Gross')\n",
    "plt.ylabel('Studio')\n",
    "\n",
    "plt.tight_layout()\n",
    "plt.show()"
   ]
  },
  {
   "cell_type": "markdown",
   "metadata": {},
   "source": [
    "From this data we can deduce the following\n",
    "* The studio performing exceptionally well in both the foreign and domestic markets is BV. It holds the top position in both categories, indicating its global success with blockbuster movies.\n",
    "\n",
    "* Fox, WB, Uni, and Sony are among the top studios in both markets, showing their ability to capture international audiences while maintaining a strong presence in the domestic market.\n",
    "\n",
    "* While some studios, like IFC and Magn have higher 'foreign_gross' revenue while their 'domestic_gross' revenue is relatively lower suggesting that they might be focusig more on international niche markets."
   ]
  },
  {
   "cell_type": "markdown",
   "metadata": {},
   "source": [
    "### Looking at the best and worst performing movies in both domestic and foreign markets\n",
    "We will now look at movies that have the highest gross for both domestic and foreign markets."
   ]
  },
  {
   "cell_type": "code",
   "execution_count": 12,
   "metadata": {},
   "outputs": [
    {
     "data": {
      "image/png": "[encoded data removed]",
      "text/plain": [
       "<Figure size 864x864 with 4 Axes>"
      ]
     },
     "metadata": {
      "needs_background": "light"
     },
     "output_type": "display_data"
    }
   ],
   "source": [
    "# Sort the DataFrame based on foreign and domestic gross in descending order\n",
    "sorted_highest_foreign_gross = df_Movie_gross.sort_values(by='foreign_gross', ascending=False)\n",
    "sorted_highest_domestic_gross = df_Movie_gross.sort_values(by='domestic_gross', ascending=False)\n",
    "\n",
    "# Sort the DataFrame based on foreign and domestic gross in ascending order\n",
    "sorted_worst_foreign_gross = df_Movie_gross.sort_values(by='foreign_gross', ascending=True)\n",
    "sorted_worst_domestic_gross = df_Movie_gross.sort_values(by='domestic_gross', ascending=True)\n",
    "\n",
    "# Selecting the top 10 movies with the highest foreign and domestic gross\n",
    "top_highest_movies_foreign_gross = sorted_highest_foreign_gross.head(10)\n",
    "top_highest_movies_domestic_gross = sorted_highest_domestic_gross.head(10)\n",
    "\n",
    "# Selecting the top 10 movies with the worst foreign and domestic gross\n",
    "top_worst_foreign_gross = sorted_worst_foreign_gross.head(10)\n",
    "top_worst_domestic_gross = sorted_worst_domestic_gross.head(10)\n",
    "\n",
    "# print(top_worst_foreign_gross)\n",
    "# print(top_worst_domestic_gross)\n",
    "# print(top_highest_movies_foreign_gross)\n",
    "# print(top_highest_movies_domestic_gross)\n",
    "\n",
    "# Creating Seaborn scatter plots to visualize the results\n",
    "plt.figure(figsize=(12, 12))\n",
    "\n",
    "# Scatter plot for top movies with highest foreign gross\n",
    "plt.subplot(2, 2, 1)\n",
    "sns.scatterplot(x='foreign_gross', y='title', data=top_highest_movies_foreign_gross, color='blue')\n",
    "plt.title('Top Movies by Foreign Gross')\n",
    "plt.xlabel('Total Foreign Gross')\n",
    "plt.ylabel('Movie Title')\n",
    "\n",
    "# Scatter plot for top movies with highest domestic gross\n",
    "plt.subplot(2, 2, 2)\n",
    "sns.scatterplot(x='domestic_gross', y='title', data=top_highest_movies_domestic_gross, color='orange')\n",
    "plt.title('Top Movies by Domestic Gross')\n",
    "plt.xlabel('Total Domestic Gross')\n",
    "plt.ylabel('Movie Title')\n",
    "\n",
    "# Scatter plot for top movies with worst foreign gross\n",
    "plt.subplot(2, 2, 3)\n",
    "sns.scatterplot(x='foreign_gross', y='title', data=top_worst_foreign_gross, color='blue')\n",
    "plt.title('Top Movies with Worst Foreign Gross')\n",
    "plt.xlabel('Total Foreign Gross')\n",
    "plt.ylabel('Movie Title')\n",
    "\n",
    "# Scatter plot for top movies with worst domestic gross\n",
    "plt.subplot(2, 2, 4)\n",
    "sns.scatterplot(x='domestic_gross', y='title', data=top_worst_domestic_gross, color='orange')\n",
    "plt.title('Top Movies with Worst Domestic Gross')\n",
    "plt.xlabel('Total Domestic Gross')\n",
    "plt.ylabel('Movie Title')\n",
    "\n",
    "plt.tight_layout()\n",
    "plt.show()\n"
   ]
  },
  {
   "cell_type": "markdown",
   "metadata": {},
   "source": [
    "From the above results we can deduce the following:\n",
    "* The movies **\"Harry Potter and the Deathly Hallows Part 2\"** and **\"Marvel's The Avengers\"** appear in both the top five lists for the foreign and domestic markets. These movies have demonstrated remarkable success in both markets, indicating their broad global appeal.\n",
    "* **\"Jurassic World\"** and **\"Jurassic World: Fallen Kingdom\"** also appear in both lists, showcasing their success in both domestic and foreign audiences.\n",
    "* Some movies, such as **\"Star Wars: The Force Awakens\"** and **\"Black Panther\"** performed exceptionally well in the domestic market but had slightly lower performance in the foreign market compared to the movies in the top five foreign gross list.\n",
    "\n",
    "_*Movies with Less Success in the Domestic and Foreign Markets:*_\n",
    "\n",
    "Among the movies listed, **\"Wolf Warrior 2\"** appears to have achieved less success in both the domestic and foreign markets compared to the top-performing movies. Its 'domestic_gross' is relatively low, and it did not make it to the top five in either category.\n",
    "Similarly, **\"Transformers: Age of Extinction\"** and **\"Minions\"** also appear to have underperformed compared to the top-performing movies in both markets."
   ]
  },
  {
   "cell_type": "markdown",
   "metadata": {},
   "source": [
    "### Titles Data \n",
    "#### Cleaning and Analysis\n",
    "We will now move to Title data by first unzipping it and loading it as df_title_basics DataFrame"
   ]
  },
  {
   "cell_type": "code",
   "execution_count": 13,
   "metadata": {
    "scrolled": true
   },
   "outputs": [
    {
     "data": {
      "text/html": [
       "<div>\n",
       "<style scoped>\n",
       "    .dataframe tbody tr th:only-of-type {\n",
       "        vertical-align: middle;\n",
       "    }\n",
       "\n",
       "    .dataframe tbody tr th {\n",
       "        vertical-align: top;\n",
       "    }\n",
       "\n",
       "    .dataframe thead th {\n",
       "        text-align: right;\n",
       "    }\n",
       "</style>\n",
       "<table border=\"1\" class=\"dataframe\">\n",
       "  <thead>\n",
       "    <tr style=\"text-align: right;\">\n",
       "      <th></th>\n",
       "      <th>tconst</th>\n",
       "      <th>primary_title</th>\n",
       "      <th>original_title</th>\n",
       "      <th>start_year</th>\n",
       "      <th>runtime_minutes</th>\n",
       "      <th>genres</th>\n",
       "    </tr>\n",
       "  </thead>\n",
       "  <tbody>\n",
       "    <tr>\n",
       "      <th>0</th>\n",
       "      <td>tt0063540</td>\n",
       "      <td>Sunghursh</td>\n",
       "      <td>Sunghursh</td>\n",
       "      <td>2013</td>\n",
       "      <td>175.0</td>\n",
       "      <td>Action,Crime,Drama</td>\n",
       "    </tr>\n",
       "    <tr>\n",
       "      <th>1</th>\n",
       "      <td>tt0066787</td>\n",
       "      <td>One Day Before the Rainy Season</td>\n",
       "      <td>Ashad Ka Ek Din</td>\n",
       "      <td>2019</td>\n",
       "      <td>114.0</td>\n",
       "      <td>Biography,Drama</td>\n",
       "    </tr>\n",
       "    <tr>\n",
       "      <th>2</th>\n",
       "      <td>tt0069049</td>\n",
       "      <td>The Other Side of the Wind</td>\n",
       "      <td>The Other Side of the Wind</td>\n",
       "      <td>2018</td>\n",
       "      <td>122.0</td>\n",
       "      <td>Drama</td>\n",
       "    </tr>\n",
       "    <tr>\n",
       "      <th>3</th>\n",
       "      <td>tt0069204</td>\n",
       "      <td>Sabse Bada Sukh</td>\n",
       "      <td>Sabse Bada Sukh</td>\n",
       "      <td>2018</td>\n",
       "      <td>NaN</td>\n",
       "      <td>Comedy,Drama</td>\n",
       "    </tr>\n",
       "    <tr>\n",
       "      <th>4</th>\n",
       "      <td>tt0100275</td>\n",
       "      <td>The Wandering Soap Opera</td>\n",
       "      <td>La Telenovela Errante</td>\n",
       "      <td>2017</td>\n",
       "      <td>80.0</td>\n",
       "      <td>Comedy,Drama,Fantasy</td>\n",
       "    </tr>\n",
       "  </tbody>\n",
       "</table>\n",
       "</div>"
      ],
      "text/plain": [
       "      tconst                    primary_title              original_title  \\\n",
       "0  tt0063540                        Sunghursh                   Sunghursh   \n",
       "1  tt0066787  One Day Before the Rainy Season             Ashad Ka Ek Din   \n",
       "2  tt0069049       The Other Side of the Wind  The Other Side of the Wind   \n",
       "3  tt0069204                  Sabse Bada Sukh             Sabse Bada Sukh   \n",
       "4  tt0100275         The Wandering Soap Opera       La Telenovela Errante   \n",
       "\n",
       "   start_year  runtime_minutes                genres  \n",
       "0        2013            175.0    Action,Crime,Drama  \n",
       "1        2019            114.0       Biography,Drama  \n",
       "2        2018            122.0                 Drama  \n",
       "3        2018              NaN          Comedy,Drama  \n",
       "4        2017             80.0  Comedy,Drama,Fantasy  "
      ]
     },
     "execution_count": 13,
     "metadata": {},
     "output_type": "execute_result"
    }
   ],
   "source": [
    "with gzip.open('imdb.title.basics.csv.gz', 'rb') as d:\n",
    "    df_title_basics = pd.read_csv(d)\n",
    "df_title_basics.head()\n"
   ]
  },
  {
   "cell_type": "code",
   "execution_count": 14,
   "metadata": {},
   "outputs": [
    {
     "name": "stdout",
     "output_type": "stream",
     "text": [
      "<class 'pandas.core.frame.DataFrame'>\n",
      "RangeIndex: 146144 entries, 0 to 146143\n",
      "Data columns (total 6 columns):\n",
      " #   Column           Non-Null Count   Dtype  \n",
      "---  ------           --------------   -----  \n",
      " 0   tconst           146144 non-null  object \n",
      " 1   primary_title    146144 non-null  object \n",
      " 2   original_title   146123 non-null  object \n",
      " 3   start_year       146144 non-null  int64  \n",
      " 4   runtime_minutes  114405 non-null  float64\n",
      " 5   genres           140736 non-null  object \n",
      "dtypes: float64(1), int64(1), object(4)\n",
      "memory usage: 6.7+ MB\n"
     ]
    },
    {
     "data": {
      "text/plain": [
       "tconst                 0\n",
       "primary_title          0\n",
       "original_title        21\n",
       "start_year             0\n",
       "runtime_minutes    31739\n",
       "genres              5408\n",
       "dtype: int64"
      ]
     },
     "execution_count": 14,
     "metadata": {},
     "output_type": "execute_result"
    }
   ],
   "source": [
    "#checking more info about Titles data\n",
    "df_title_basics.info()\n",
    "df_title_basics.shape\n",
    "df_title_basics.isnull().sum()"
   ]
  },
  {
   "cell_type": "markdown",
   "metadata": {},
   "source": [
    "### Handling missing data on the Titles Data\n",
    "Overall, we can tell that the Title Data appears to contain information about various movie and show titles, including their release years, genres, and runtime (if available). However, it has0.01%, 21.7% and 3.7% missing values in the 'original_title', 'runtime_minutes', and 'genres' columns respectively.\n",
    "\n",
    "We will clean and handle the missing data by the following means:\n",
    "* Since primary_title is the english title we will not use the original_title since it has various languages there for we will drop the column\n",
    "* We will Impute Missing Values with Mean for runtime_minutes column\n",
    "* we will Impute Missing Values with Mode on the genre column"
   ]
  },
  {
   "cell_type": "code",
   "execution_count": 15,
   "metadata": {},
   "outputs": [
    {
     "name": "stdout",
     "output_type": "stream",
     "text": [
      "tconst             0\n",
      "primary_title      0\n",
      "start_year         0\n",
      "runtime_minutes    0\n",
      "genres             0\n",
      "dtype: int64\n"
     ]
    }
   ],
   "source": [
    "# Calculating the mean of 'runtime_minutes'\n",
    "mean_runtime_minutes = df_title_basics['runtime_minutes'].mean()\n",
    "\n",
    "#mode of 'genres'\n",
    "mode_genres = df_title_basics['genres'].mode().iloc[0]\n",
    "\n",
    "# Impute missing values with mean for 'runtime_minutes'\n",
    "df_title_basics['runtime_minutes'].fillna(mean_runtime_minutes, inplace=True)\n",
    "\n",
    "# Impute missing values with mode for 'genres'\n",
    "df_title_basics['genres'].fillna(mode_genres, inplace=True)\n",
    "\n",
    "# Droping the 'original_title' column from df_title_basics\n",
    "df_title_basics.drop(columns=['original_title'], inplace=True)\n",
    "\n",
    "# Verify if there are any missing values after imputation\n",
    "print(df_title_basics.isnull().sum())\n"
   ]
  },
  {
   "cell_type": "code",
   "execution_count": 16,
   "metadata": {
    "scrolled": true
   },
   "outputs": [
    {
     "data": {
      "text/html": [
       "<div>\n",
       "<style scoped>\n",
       "    .dataframe tbody tr th:only-of-type {\n",
       "        vertical-align: middle;\n",
       "    }\n",
       "\n",
       "    .dataframe tbody tr th {\n",
       "        vertical-align: top;\n",
       "    }\n",
       "\n",
       "    .dataframe thead th {\n",
       "        text-align: right;\n",
       "    }\n",
       "</style>\n",
       "<table border=\"1\" class=\"dataframe\">\n",
       "  <thead>\n",
       "    <tr style=\"text-align: right;\">\n",
       "      <th></th>\n",
       "      <th>start_year</th>\n",
       "      <th>runtime_minutes</th>\n",
       "    </tr>\n",
       "  </thead>\n",
       "  <tbody>\n",
       "    <tr>\n",
       "      <th>count</th>\n",
       "      <td>146144.000000</td>\n",
       "      <td>146144.000000</td>\n",
       "    </tr>\n",
       "    <tr>\n",
       "      <th>mean</th>\n",
       "      <td>2014.621798</td>\n",
       "      <td>86.187247</td>\n",
       "    </tr>\n",
       "    <tr>\n",
       "      <th>std</th>\n",
       "      <td>2.733583</td>\n",
       "      <td>147.191268</td>\n",
       "    </tr>\n",
       "    <tr>\n",
       "      <th>min</th>\n",
       "      <td>2010.000000</td>\n",
       "      <td>1.000000</td>\n",
       "    </tr>\n",
       "    <tr>\n",
       "      <th>25%</th>\n",
       "      <td>2012.000000</td>\n",
       "      <td>75.000000</td>\n",
       "    </tr>\n",
       "    <tr>\n",
       "      <th>50%</th>\n",
       "      <td>2015.000000</td>\n",
       "      <td>86.187247</td>\n",
       "    </tr>\n",
       "    <tr>\n",
       "      <th>75%</th>\n",
       "      <td>2017.000000</td>\n",
       "      <td>95.000000</td>\n",
       "    </tr>\n",
       "    <tr>\n",
       "      <th>max</th>\n",
       "      <td>2115.000000</td>\n",
       "      <td>51420.000000</td>\n",
       "    </tr>\n",
       "  </tbody>\n",
       "</table>\n",
       "</div>"
      ],
      "text/plain": [
       "          start_year  runtime_minutes\n",
       "count  146144.000000    146144.000000\n",
       "mean     2014.621798        86.187247\n",
       "std         2.733583       147.191268\n",
       "min      2010.000000         1.000000\n",
       "25%      2012.000000        75.000000\n",
       "50%      2015.000000        86.187247\n",
       "75%      2017.000000        95.000000\n",
       "max      2115.000000     51420.000000"
      ]
     },
     "execution_count": 16,
     "metadata": {},
     "output_type": "execute_result"
    }
   ],
   "source": [
    "df_title_basics.describe()"
   ]
  },
  {
   "cell_type": "markdown",
   "metadata": {},
   "source": [
    "from the data we can tell that there maybe outliers in the data given the Max start_year is 2115 while max runtime_minutes is 51420 which is a bit unrealistic.\n",
    "We will therefore us a box plot to see if there are obvious outliers in this data\n"
   ]
  },
  {
   "cell_type": "code",
   "execution_count": 17,
   "metadata": {
    "scrolled": true
   },
   "outputs": [
    {
     "name": "stderr",
     "output_type": "stream",
     "text": [
      "C:\\Users\\user\\anaconda3\\envs\\learn-env\\lib\\site-packages\\seaborn\\_decorators.py:36: FutureWarning: Pass the following variable as a keyword arg: x. From version 0.12, the only valid positional argument will be `data`, and passing other arguments without an explicit keyword will result in an error or misinterpretation.\n",
      "  warnings.warn(\n"
     ]
    },
    {
     "data": {
      "image/png": "[encoded data removed]",
      "text/plain": [
       "<Figure size 576x432 with 1 Axes>"
      ]
     },
     "metadata": {
      "needs_background": "light"
     },
     "output_type": "display_data"
    }
   ],
   "source": [
    "# Create a box plot for 'runtime_minutes'\n",
    "plt.figure(figsize=(8, 6))\n",
    "sns.boxplot(df_title_basics['runtime_minutes'], color='purple')\n",
    "plt.title('Box Plot of Runtime Minutes')\n",
    "plt.xlabel('Runtime (minutes)')\n",
    "plt.tight_layout()\n",
    "plt.show()\n"
   ]
  },
  {
   "cell_type": "markdown",
   "metadata": {},
   "source": [
    "We can see that we have two outliers one at above 50000 and the other at above 15000\n",
    "we will drop those outliers do so that they don't give noise in our analysis"
   ]
  },
  {
   "cell_type": "code",
   "execution_count": 18,
   "metadata": {},
   "outputs": [
    {
     "name": "stdout",
     "output_type": "stream",
     "text": [
      "      tconst                    primary_title  start_year  runtime_minutes  \\\n",
      "1  tt0066787  One Day Before the Rainy Season        2019       114.000000   \n",
      "2  tt0069049       The Other Side of the Wind        2018       122.000000   \n",
      "3  tt0069204                  Sabse Bada Sukh        2018        86.187247   \n",
      "4  tt0100275         The Wandering Soap Opera        2017        80.000000   \n",
      "5  tt0111414                      A Thin Life        2018        75.000000   \n",
      "\n",
      "                 genres  \n",
      "1       Biography,Drama  \n",
      "2                 Drama  \n",
      "3          Comedy,Drama  \n",
      "4  Comedy,Drama,Fantasy  \n",
      "5                Comedy  \n",
      "          start_year  runtime_minutes\n",
      "count  133149.000000    133149.000000\n",
      "mean     2014.613365        84.686870\n",
      "std         2.751199        16.559587\n",
      "min      2010.000000        45.000000\n",
      "25%      2012.000000        77.000000\n",
      "50%      2015.000000        86.187247\n",
      "75%      2017.000000        93.000000\n",
      "max      2115.000000       125.000000\n",
      "<class 'pandas.core.frame.DataFrame'>\n",
      "Int64Index: 133149 entries, 1 to 146143\n",
      "Data columns (total 5 columns):\n",
      " #   Column           Non-Null Count   Dtype  \n",
      "---  ------           --------------   -----  \n",
      " 0   tconst           133149 non-null  object \n",
      " 1   primary_title    133149 non-null  object \n",
      " 2   start_year       133149 non-null  int64  \n",
      " 3   runtime_minutes  133149 non-null  float64\n",
      " 4   genres           133149 non-null  object \n",
      "dtypes: float64(1), int64(1), object(3)\n",
      "memory usage: 6.1+ MB\n",
      "None\n"
     ]
    }
   ],
   "source": [
    "# Calculate the first quartile (Q1) and third quartile (Q3)\n",
    "Q1 = df_title_basics['runtime_minutes'].quantile(0.25)\n",
    "Q3 = df_title_basics['runtime_minutes'].quantile(0.75)\n",
    "\n",
    "# Calculate the interquartile range (IQR)\n",
    "IQR = Q3 - Q1\n",
    "\n",
    "# Calculate the lower and upper bounds for outlier removal\n",
    "lower_bound = Q1 - 1.5 * IQR\n",
    "upper_bound = Q3 + 1.5 * IQR\n",
    "\n",
    "# Remove outliers from the 'runtime_minutes' column\n",
    "df_title_basics = df_title_basics[(df_title_basics['runtime_minutes'] >= lower_bound) & (df_title_basics['runtime_minutes'] <= upper_bound)]\n",
    "\n",
    "# Display the DataFrame after removing outliers\n",
    "print(df_title_basics.head())\n",
    "print(df_title_basics.describe())\n",
    "print(df_title_basics.info())\n"
   ]
  },
  {
   "cell_type": "markdown",
   "metadata": {},
   "source": [
    "### Most produced Genre\n",
    "Let's find out the leading genre production in our list"
   ]
  },
  {
   "cell_type": "code",
   "execution_count": 19,
   "metadata": {},
   "outputs": [
    {
     "name": "stdout",
     "output_type": "stream",
     "text": [
      "Documentary    50199\n",
      "Drama          45617\n",
      "Comedy         23483\n",
      "Thriller       11111\n",
      "Horror         10544\n",
      "Action          8839\n",
      "Romance         8298\n",
      "Biography       7175\n",
      "Crime           6130\n",
      "Adventure       5799\n",
      "Family          5447\n",
      "History         5216\n",
      "Mystery         4352\n",
      "Music           3811\n",
      "Fantasy         3285\n",
      "Sci-Fi          3202\n",
      "Animation       2641\n",
      "Sport           1932\n",
      "War             1237\n",
      "News            1211\n",
      "Musical         1206\n",
      "Western          436\n",
      "Reality-TV        78\n",
      "Talk-Show         49\n",
      "Adult             25\n",
      "Game-Show          3\n",
      "Short              2\n",
      "dtype: int64\n"
     ]
    },
    {
     "data": {
      "image/png": "[encoded data removed]",
      "text/plain": [
       "<Figure size 720x432 with 1 Axes>"
      ]
     },
     "metadata": {
      "needs_background": "light"
     },
     "output_type": "display_data"
    }
   ],
   "source": [
    "# Count the frequency of each genre\n",
    "genre_counts = df_title_basics['genres'].str.split(',', expand=True).stack().value_counts()\n",
    "print(genre_counts)\n",
    "\n",
    "# Plot the most popular genre using a Seaborn bar plot\n",
    "plt.figure(figsize=(10, 6))\n",
    "sns.barplot(x=genre_counts.index, y=genre_counts.values, palette='viridis')\n",
    "plt.title('Most Popular Genre')\n",
    "plt.xlabel('Genre')\n",
    "plt.ylabel('Frequency')\n",
    "plt.xticks(rotation=45, ha='right')\n",
    "plt.tight_layout()\n",
    "plt.show()\n"
   ]
  },
  {
   "cell_type": "markdown",
   "metadata": {},
   "source": [
    "### Rating Data\n",
    "#### Cleaning and Analysis\n",
    "We will now move to Title data by first unzipping it and loading it as df_title_ratings DataFrame"
   ]
  },
  {
   "cell_type": "code",
   "execution_count": 20,
   "metadata": {},
   "outputs": [
    {
     "data": {
      "text/html": [
       "<div>\n",
       "<style scoped>\n",
       "    .dataframe tbody tr th:only-of-type {\n",
       "        vertical-align: middle;\n",
       "    }\n",
       "\n",
       "    .dataframe tbody tr th {\n",
       "        vertical-align: top;\n",
       "    }\n",
       "\n",
       "    .dataframe thead th {\n",
       "        text-align: right;\n",
       "    }\n",
       "</style>\n",
       "<table border=\"1\" class=\"dataframe\">\n",
       "  <thead>\n",
       "    <tr style=\"text-align: right;\">\n",
       "      <th></th>\n",
       "      <th>tconst</th>\n",
       "      <th>averagerating</th>\n",
       "      <th>numvotes</th>\n",
       "    </tr>\n",
       "  </thead>\n",
       "  <tbody>\n",
       "    <tr>\n",
       "      <th>0</th>\n",
       "      <td>tt10356526</td>\n",
       "      <td>8.3</td>\n",
       "      <td>31</td>\n",
       "    </tr>\n",
       "    <tr>\n",
       "      <th>1</th>\n",
       "      <td>tt10384606</td>\n",
       "      <td>8.9</td>\n",
       "      <td>559</td>\n",
       "    </tr>\n",
       "    <tr>\n",
       "      <th>2</th>\n",
       "      <td>tt1042974</td>\n",
       "      <td>6.4</td>\n",
       "      <td>20</td>\n",
       "    </tr>\n",
       "    <tr>\n",
       "      <th>3</th>\n",
       "      <td>tt1043726</td>\n",
       "      <td>4.2</td>\n",
       "      <td>50352</td>\n",
       "    </tr>\n",
       "    <tr>\n",
       "      <th>4</th>\n",
       "      <td>tt1060240</td>\n",
       "      <td>6.5</td>\n",
       "      <td>21</td>\n",
       "    </tr>\n",
       "    <tr>\n",
       "      <th>...</th>\n",
       "      <td>...</td>\n",
       "      <td>...</td>\n",
       "      <td>...</td>\n",
       "    </tr>\n",
       "    <tr>\n",
       "      <th>73851</th>\n",
       "      <td>tt9805820</td>\n",
       "      <td>8.1</td>\n",
       "      <td>25</td>\n",
       "    </tr>\n",
       "    <tr>\n",
       "      <th>73852</th>\n",
       "      <td>tt9844256</td>\n",
       "      <td>7.5</td>\n",
       "      <td>24</td>\n",
       "    </tr>\n",
       "    <tr>\n",
       "      <th>73853</th>\n",
       "      <td>tt9851050</td>\n",
       "      <td>4.7</td>\n",
       "      <td>14</td>\n",
       "    </tr>\n",
       "    <tr>\n",
       "      <th>73854</th>\n",
       "      <td>tt9886934</td>\n",
       "      <td>7.0</td>\n",
       "      <td>5</td>\n",
       "    </tr>\n",
       "    <tr>\n",
       "      <th>73855</th>\n",
       "      <td>tt9894098</td>\n",
       "      <td>6.3</td>\n",
       "      <td>128</td>\n",
       "    </tr>\n",
       "  </tbody>\n",
       "</table>\n",
       "<p>73856 rows × 3 columns</p>\n",
       "</div>"
      ],
      "text/plain": [
       "           tconst  averagerating  numvotes\n",
       "0      tt10356526            8.3        31\n",
       "1      tt10384606            8.9       559\n",
       "2       tt1042974            6.4        20\n",
       "3       tt1043726            4.2     50352\n",
       "4       tt1060240            6.5        21\n",
       "...           ...            ...       ...\n",
       "73851   tt9805820            8.1        25\n",
       "73852   tt9844256            7.5        24\n",
       "73853   tt9851050            4.7        14\n",
       "73854   tt9886934            7.0         5\n",
       "73855   tt9894098            6.3       128\n",
       "\n",
       "[73856 rows x 3 columns]"
      ]
     },
     "execution_count": 20,
     "metadata": {},
     "output_type": "execute_result"
    }
   ],
   "source": [
    "with gzip.open('imdb.title.ratings.csv.gz', 'rb') as e:\n",
    "    df_title_ratings = pd.read_csv(e)\n",
    "df_title_ratings"
   ]
  },
  {
   "cell_type": "code",
   "execution_count": 21,
   "metadata": {},
   "outputs": [
    {
     "name": "stdout",
     "output_type": "stream",
     "text": [
      "<class 'pandas.core.frame.DataFrame'>\n",
      "RangeIndex: 73856 entries, 0 to 73855\n",
      "Data columns (total 3 columns):\n",
      " #   Column         Non-Null Count  Dtype  \n",
      "---  ------         --------------  -----  \n",
      " 0   tconst         73856 non-null  object \n",
      " 1   averagerating  73856 non-null  float64\n",
      " 2   numvotes       73856 non-null  int64  \n",
      "dtypes: float64(1), int64(1), object(1)\n",
      "memory usage: 1.7+ MB\n"
     ]
    },
    {
     "data": {
      "text/plain": [
       "tconst           0\n",
       "averagerating    0\n",
       "numvotes         0\n",
       "dtype: int64"
      ]
     },
     "execution_count": 21,
     "metadata": {},
     "output_type": "execute_result"
    }
   ],
   "source": [
    "#checking more info about Ratings data\n",
    "df_title_ratings.info()\n",
    "df_title_ratings.shape\n",
    "df_title_ratings.isnull().sum()"
   ]
  },
  {
   "cell_type": "code",
   "execution_count": 22,
   "metadata": {
    "scrolled": true
   },
   "outputs": [
    {
     "data": {
      "text/html": [
       "<div>\n",
       "<style scoped>\n",
       "    .dataframe tbody tr th:only-of-type {\n",
       "        vertical-align: middle;\n",
       "    }\n",
       "\n",
       "    .dataframe tbody tr th {\n",
       "        vertical-align: top;\n",
       "    }\n",
       "\n",
       "    .dataframe thead th {\n",
       "        text-align: right;\n",
       "    }\n",
       "</style>\n",
       "<table border=\"1\" class=\"dataframe\">\n",
       "  <thead>\n",
       "    <tr style=\"text-align: right;\">\n",
       "      <th></th>\n",
       "      <th>averagerating</th>\n",
       "      <th>numvotes</th>\n",
       "    </tr>\n",
       "  </thead>\n",
       "  <tbody>\n",
       "    <tr>\n",
       "      <th>count</th>\n",
       "      <td>73856.000000</td>\n",
       "      <td>7.385600e+04</td>\n",
       "    </tr>\n",
       "    <tr>\n",
       "      <th>mean</th>\n",
       "      <td>6.332729</td>\n",
       "      <td>3.523662e+03</td>\n",
       "    </tr>\n",
       "    <tr>\n",
       "      <th>std</th>\n",
       "      <td>1.474978</td>\n",
       "      <td>3.029402e+04</td>\n",
       "    </tr>\n",
       "    <tr>\n",
       "      <th>min</th>\n",
       "      <td>1.000000</td>\n",
       "      <td>5.000000e+00</td>\n",
       "    </tr>\n",
       "    <tr>\n",
       "      <th>25%</th>\n",
       "      <td>5.500000</td>\n",
       "      <td>1.400000e+01</td>\n",
       "    </tr>\n",
       "    <tr>\n",
       "      <th>50%</th>\n",
       "      <td>6.500000</td>\n",
       "      <td>4.900000e+01</td>\n",
       "    </tr>\n",
       "    <tr>\n",
       "      <th>75%</th>\n",
       "      <td>7.400000</td>\n",
       "      <td>2.820000e+02</td>\n",
       "    </tr>\n",
       "    <tr>\n",
       "      <th>max</th>\n",
       "      <td>10.000000</td>\n",
       "      <td>1.841066e+06</td>\n",
       "    </tr>\n",
       "  </tbody>\n",
       "</table>\n",
       "</div>"
      ],
      "text/plain": [
       "       averagerating      numvotes\n",
       "count   73856.000000  7.385600e+04\n",
       "mean        6.332729  3.523662e+03\n",
       "std         1.474978  3.029402e+04\n",
       "min         1.000000  5.000000e+00\n",
       "25%         5.500000  1.400000e+01\n",
       "50%         6.500000  4.900000e+01\n",
       "75%         7.400000  2.820000e+02\n",
       "max        10.000000  1.841066e+06"
      ]
     },
     "execution_count": 22,
     "metadata": {},
     "output_type": "execute_result"
    }
   ],
   "source": [
    "df_title_ratings.describe()"
   ]
  },
  {
   "cell_type": "markdown",
   "metadata": {},
   "source": [
    "### Title and Rating Data Merge\n",
    "We can tell from the above that Ratings data does not have any missing values\n",
    "By itself it is not easy to read but it has the same column as Titles Data\n",
    "We will move and Merge Title data with Ratings data"
   ]
  },
  {
   "cell_type": "code",
   "execution_count": 23,
   "metadata": {},
   "outputs": [
    {
     "data": {
      "text/html": [
       "<div>\n",
       "<style scoped>\n",
       "    .dataframe tbody tr th:only-of-type {\n",
       "        vertical-align: middle;\n",
       "    }\n",
       "\n",
       "    .dataframe tbody tr th {\n",
       "        vertical-align: top;\n",
       "    }\n",
       "\n",
       "    .dataframe thead th {\n",
       "        text-align: right;\n",
       "    }\n",
       "</style>\n",
       "<table border=\"1\" class=\"dataframe\">\n",
       "  <thead>\n",
       "    <tr style=\"text-align: right;\">\n",
       "      <th></th>\n",
       "      <th>tconst</th>\n",
       "      <th>primary_title</th>\n",
       "      <th>start_year</th>\n",
       "      <th>runtime_minutes</th>\n",
       "      <th>genres</th>\n",
       "      <th>averagerating</th>\n",
       "      <th>numvotes</th>\n",
       "    </tr>\n",
       "  </thead>\n",
       "  <tbody>\n",
       "    <tr>\n",
       "      <th>0</th>\n",
       "      <td>tt0066787</td>\n",
       "      <td>One Day Before the Rainy Season</td>\n",
       "      <td>2019</td>\n",
       "      <td>114.000000</td>\n",
       "      <td>Biography,Drama</td>\n",
       "      <td>7.2</td>\n",
       "      <td>43</td>\n",
       "    </tr>\n",
       "    <tr>\n",
       "      <th>1</th>\n",
       "      <td>tt0069049</td>\n",
       "      <td>The Other Side of the Wind</td>\n",
       "      <td>2018</td>\n",
       "      <td>122.000000</td>\n",
       "      <td>Drama</td>\n",
       "      <td>6.9</td>\n",
       "      <td>4517</td>\n",
       "    </tr>\n",
       "    <tr>\n",
       "      <th>2</th>\n",
       "      <td>tt0069204</td>\n",
       "      <td>Sabse Bada Sukh</td>\n",
       "      <td>2018</td>\n",
       "      <td>86.187247</td>\n",
       "      <td>Comedy,Drama</td>\n",
       "      <td>6.1</td>\n",
       "      <td>13</td>\n",
       "    </tr>\n",
       "    <tr>\n",
       "      <th>3</th>\n",
       "      <td>tt0100275</td>\n",
       "      <td>The Wandering Soap Opera</td>\n",
       "      <td>2017</td>\n",
       "      <td>80.000000</td>\n",
       "      <td>Comedy,Drama,Fantasy</td>\n",
       "      <td>6.5</td>\n",
       "      <td>119</td>\n",
       "    </tr>\n",
       "    <tr>\n",
       "      <th>4</th>\n",
       "      <td>tt0112502</td>\n",
       "      <td>Bigfoot</td>\n",
       "      <td>2017</td>\n",
       "      <td>86.187247</td>\n",
       "      <td>Horror,Thriller</td>\n",
       "      <td>4.1</td>\n",
       "      <td>32</td>\n",
       "    </tr>\n",
       "    <tr>\n",
       "      <th>...</th>\n",
       "      <td>...</td>\n",
       "      <td>...</td>\n",
       "      <td>...</td>\n",
       "      <td>...</td>\n",
       "      <td>...</td>\n",
       "      <td>...</td>\n",
       "      <td>...</td>\n",
       "    </tr>\n",
       "    <tr>\n",
       "      <th>68194</th>\n",
       "      <td>tt9913084</td>\n",
       "      <td>Diabolik sono io</td>\n",
       "      <td>2019</td>\n",
       "      <td>75.000000</td>\n",
       "      <td>Documentary</td>\n",
       "      <td>6.2</td>\n",
       "      <td>6</td>\n",
       "    </tr>\n",
       "    <tr>\n",
       "      <th>68195</th>\n",
       "      <td>tt9914286</td>\n",
       "      <td>Sokagin Çocuklari</td>\n",
       "      <td>2019</td>\n",
       "      <td>98.000000</td>\n",
       "      <td>Drama,Family</td>\n",
       "      <td>8.7</td>\n",
       "      <td>136</td>\n",
       "    </tr>\n",
       "    <tr>\n",
       "      <th>68196</th>\n",
       "      <td>tt9914642</td>\n",
       "      <td>Albatross</td>\n",
       "      <td>2017</td>\n",
       "      <td>86.187247</td>\n",
       "      <td>Documentary</td>\n",
       "      <td>8.5</td>\n",
       "      <td>8</td>\n",
       "    </tr>\n",
       "    <tr>\n",
       "      <th>68197</th>\n",
       "      <td>tt9914942</td>\n",
       "      <td>La vida sense la Sara Amat</td>\n",
       "      <td>2019</td>\n",
       "      <td>86.187247</td>\n",
       "      <td>Documentary</td>\n",
       "      <td>6.6</td>\n",
       "      <td>5</td>\n",
       "    </tr>\n",
       "    <tr>\n",
       "      <th>68198</th>\n",
       "      <td>tt9916160</td>\n",
       "      <td>Drømmeland</td>\n",
       "      <td>2019</td>\n",
       "      <td>72.000000</td>\n",
       "      <td>Documentary</td>\n",
       "      <td>6.5</td>\n",
       "      <td>11</td>\n",
       "    </tr>\n",
       "  </tbody>\n",
       "</table>\n",
       "<p>68199 rows × 7 columns</p>\n",
       "</div>"
      ],
      "text/plain": [
       "          tconst                    primary_title  start_year  \\\n",
       "0      tt0066787  One Day Before the Rainy Season        2019   \n",
       "1      tt0069049       The Other Side of the Wind        2018   \n",
       "2      tt0069204                  Sabse Bada Sukh        2018   \n",
       "3      tt0100275         The Wandering Soap Opera        2017   \n",
       "4      tt0112502                          Bigfoot        2017   \n",
       "...          ...                              ...         ...   \n",
       "68194  tt9913084                 Diabolik sono io        2019   \n",
       "68195  tt9914286                Sokagin Çocuklari        2019   \n",
       "68196  tt9914642                        Albatross        2017   \n",
       "68197  tt9914942       La vida sense la Sara Amat        2019   \n",
       "68198  tt9916160                       Drømmeland        2019   \n",
       "\n",
       "       runtime_minutes                genres  averagerating  numvotes  \n",
       "0           114.000000       Biography,Drama            7.2        43  \n",
       "1           122.000000                 Drama            6.9      4517  \n",
       "2            86.187247          Comedy,Drama            6.1        13  \n",
       "3            80.000000  Comedy,Drama,Fantasy            6.5       119  \n",
       "4            86.187247       Horror,Thriller            4.1        32  \n",
       "...                ...                   ...            ...       ...  \n",
       "68194        75.000000           Documentary            6.2         6  \n",
       "68195        98.000000          Drama,Family            8.7       136  \n",
       "68196        86.187247           Documentary            8.5         8  \n",
       "68197        86.187247           Documentary            6.6         5  \n",
       "68198        72.000000           Documentary            6.5        11  \n",
       "\n",
       "[68199 rows x 7 columns]"
      ]
     },
     "execution_count": 23,
     "metadata": {},
     "output_type": "execute_result"
    }
   ],
   "source": [
    "#inner merging title and rating Data\n",
    "Title_Rating_Merge = pd.merge(df_title_basics,df_title_ratings, on='tconst',how=\"inner\")\n",
    "Title_Rating_Merge"
   ]
  },
  {
   "cell_type": "code",
   "execution_count": 24,
   "metadata": {},
   "outputs": [
    {
     "name": "stdout",
     "output_type": "stream",
     "text": [
      "<class 'pandas.core.frame.DataFrame'>\n",
      "Int64Index: 68199 entries, 0 to 68198\n",
      "Data columns (total 7 columns):\n",
      " #   Column           Non-Null Count  Dtype  \n",
      "---  ------           --------------  -----  \n",
      " 0   tconst           68199 non-null  object \n",
      " 1   primary_title    68199 non-null  object \n",
      " 2   start_year       68199 non-null  int64  \n",
      " 3   runtime_minutes  68199 non-null  float64\n",
      " 4   genres           68199 non-null  object \n",
      " 5   averagerating    68199 non-null  float64\n",
      " 6   numvotes         68199 non-null  int64  \n",
      "dtypes: float64(2), int64(2), object(3)\n",
      "memory usage: 4.2+ MB\n"
     ]
    },
    {
     "data": {
      "text/plain": [
       "tconst             0\n",
       "primary_title      0\n",
       "start_year         0\n",
       "runtime_minutes    0\n",
       "genres             0\n",
       "averagerating      0\n",
       "numvotes           0\n",
       "dtype: int64"
      ]
     },
     "execution_count": 24,
     "metadata": {},
     "output_type": "execute_result"
    }
   ],
   "source": [
    "Title_Rating_Merge.info()\n",
    "Title_Rating_Merge.shape\n",
    "Title_Rating_Merge.isnull().sum()"
   ]
  },
  {
   "cell_type": "markdown",
   "metadata": {},
   "source": [
    "We now have more more cleaned data that we can generate more analysis that will shade more light on the below questions:\n",
    "* Analyze how the average ratings and number of votes change over the years.\n",
    "* Explore which genres tend to receive higher ratings or attract more votes.\n",
    "* Investigate the relationship between the duration of a title and its average rating.\n",
    "* Visualize the distribution of average ratings and number of votes across different genres."
   ]
  },
  {
   "cell_type": "markdown",
   "metadata": {},
   "source": [
    "### Average ratings and number of votes change over the years."
   ]
  },
  {
   "cell_type": "code",
   "execution_count": 25,
   "metadata": {},
   "outputs": [
    {
     "data": {
      "image/png": "[encoded data removed]",
      "text/plain": [
       "<Figure size 576x432 with 1 Axes>"
      ]
     },
     "metadata": {
      "needs_background": "light"
     },
     "output_type": "display_data"
    },
    {
     "data": {
      "image/png": "[encoded data removed]",
      "text/plain": [
       "<Figure size 576x432 with 1 Axes>"
      ]
     },
     "metadata": {
      "needs_background": "light"
     },
     "output_type": "display_data"
    }
   ],
   "source": [
    "# Line plot for average ratings over the years\n",
    "plt.figure(figsize=(8, 6))\n",
    "sns.lineplot(x='start_year', y='averagerating', data=Title_Rating_Merge, ci=None, color='blue')\n",
    "plt.title('Average Ratings Over the Years')\n",
    "plt.xlabel('Year')\n",
    "plt.ylabel('Average Rating')\n",
    "plt.tight_layout()\n",
    "plt.show()\n",
    "\n",
    "# Line plot for number of votes over the years\n",
    "plt.figure(figsize=(8, 6))\n",
    "sns.lineplot(x='start_year', y='numvotes', data=Title_Rating_Merge, ci=None, color='orange')\n",
    "plt.title('Number of Votes Over the Years')\n",
    "plt.xlabel('Year')\n",
    "plt.ylabel('Number of Votes')\n",
    "plt.tight_layout()\n",
    "plt.show()\n"
   ]
  },
  {
   "cell_type": "markdown",
   "metadata": {},
   "source": [
    "From the above data we can tell that the averagerating for all movies has been increasing over the years from 2010 to 2018 while the opposite has been for the Number of votes over the years. This could be taken to mean that the quality of movies over the years has been on the rising thereby getting higher rating. Therefore Microsoft can focus more on getting higher rating for their movies as opposed to aiming at higher number of votes"
   ]
  },
  {
   "cell_type": "markdown",
   "metadata": {},
   "source": [
    "### Genres that tend to receive higher ratings or attract more votes"
   ]
  },
  {
   "cell_type": "code",
   "execution_count": null,
   "metadata": {
    "scrolled": true
   },
   "outputs": [],
   "source": [
    "# Count plot for average ratings by genre\n",
    "plt.figure(figsize=(12, 6))\n",
    "sns.barplot(x='genres', y='averagerating', data=Title_Rating_Merge, ci=None, palette='cool')\n",
    "plt.title('Average Ratings by Genre')\n",
    "plt.xlabel('Genre')\n",
    "plt.ylabel('Average Rating')\n",
    "plt.xticks(rotation=90, ha='right')\n",
    "plt.tight_layout()\n",
    "plt.show()\n",
    "\n",
    "# # Count plot for number of votes by genre\n",
    "# plt.figure(figsize=(12, 6))\n",
    "# sns.barplot(x='genres', y='numvotes', data=Title_Rating_Merge, ci=None, palette='magma')\n",
    "# plt.title('Number of Votes by Genre')\n",
    "# plt.xlabel('Genre')\n",
    "# plt.ylabel('Number of Votes')\n",
    "# plt.xticks(rotation=45, ha='right')\n",
    "# plt.tight_layout()\n",
    "# plt.show()"
   ]
  },
  {
   "cell_type": "markdown",
   "metadata": {},
   "source": [
    "From the chart we can tell that genre column data has to many unique values hence making it hard to visualize\n",
    "To fix this I took the genres column of our DataFrame Title_Rating_Merge and splits each cell into separate genres then I expanded them into separate columns.Then I transformed the columns into rows, creating a new multi-indexed DataFrame.\n",
    "This resulted is a new DataFrame genre_ratings_votes, where each row corresponds to a genre associated with the original movie/show, along with the corresponding 'averagerating' and 'numvotes' values as below\n"
   ]
  },
  {
   "cell_type": "code",
   "execution_count": 27,
   "metadata": {},
   "outputs": [
    {
     "name": "stdout",
     "output_type": "stream",
     "text": [
      "             genre  averagerating  numvotes\n",
      "0        Biography            7.2        43\n",
      "0            Drama            7.2        43\n",
      "1            Drama            6.9      4517\n",
      "2           Comedy            6.1        13\n",
      "2            Drama            6.1        13\n",
      "...            ...            ...       ...\n",
      "68195        Drama            8.7       136\n",
      "68195       Family            8.7       136\n",
      "68196  Documentary            8.5         8\n",
      "68197  Documentary            6.6         5\n",
      "68198  Documentary            6.5        11\n",
      "\n",
      "[118506 rows x 3 columns]\n",
      "          genre  averagerating  numvotes\n",
      "7   Documentary       7.289749   4425856\n",
      "17         News       7.264273    123041\n",
      "4     Biography       7.159036  13379374\n",
      "14        Music       7.062466   4030752\n",
      "12      History       7.032611   4050337\n",
      "21        Sport       6.942606   2128285\n",
      "23          War       6.567487   1524224\n",
      "15      Musical       6.424232    561768\n",
      "8         Drama       6.380612  83274770\n",
      "9        Family       6.361492   5767363\n",
      "18   Reality-TV       6.283333       363\n",
      "3     Animation       6.227660  15180127\n",
      "2     Adventure       6.158727  48249810\n",
      "19      Romance       6.121893  22548407\n",
      "6         Crime       6.061785  29446995\n",
      "5        Comedy       5.989466  67823294\n",
      "10      Fantasy       5.876962  17081319\n",
      "16      Mystery       5.870760  18428229\n",
      "24      Western       5.822472    801321\n",
      "0        Action       5.738395  60988797\n",
      "11    Game-Show       5.600000      3462\n",
      "22     Thriller       5.577360  35503792\n",
      "20       Sci-Fi       5.434789  22088050\n",
      "13       Horror       4.987610  22585703\n",
      "1         Adult       3.766667       164\n"
     ]
    },
    {
     "data": {
      "image/png": "[encoded data removed]",
      "text/plain": [
       "<Figure size 576x432 with 1 Axes>"
      ]
     },
     "metadata": {
      "needs_background": "light"
     },
     "output_type": "display_data"
    },
    {
     "data": {
      "image/png": "[encoded data removed]",
      "text/plain": [
       "<Figure size 576x432 with 1 Axes>"
      ]
     },
     "metadata": {
      "needs_background": "light"
     },
     "output_type": "display_data"
    }
   ],
   "source": [
    "# Create a new DataFrame to extract genres and corresponding ratings and votes\n",
    "genre_ratings_votes = Title_Rating_Merge['genres'].str.split(',', expand=True).stack().reset_index(level=1, drop=True).rename('genre')\n",
    "genre_ratings_votes = pd.merge(genre_ratings_votes, Title_Rating_Merge[['averagerating', 'numvotes']], left_index=True, right_index=True)\n",
    "\n",
    "print(genre_ratings_votes)\n",
    "# Calculate the mean average rating and total number of votes for each genre\n",
    "genre_ratings_votes_agg = genre_ratings_votes.groupby('genre').agg({'averagerating': 'mean', 'numvotes': 'sum'}).reset_index()\n",
    "\n",
    "# Sort genres by average rating in descending order\n",
    "genre_ratings_votes_agg = genre_ratings_votes_agg.sort_values(by='averagerating', ascending=False)\n",
    "print(genre_ratings_votes_agg)\n",
    "\n",
    "# Create a bar plot for average ratings by genre\n",
    "plt.figure(figsize=(8, 6))\n",
    "sns.barplot(x='genre', y='averagerating', data=genre_ratings_votes_agg, palette='cool')\n",
    "plt.title('Average Ratings by Genre')\n",
    "plt.xlabel('Genre')\n",
    "plt.ylabel('Average Rating')\n",
    "plt.xticks(rotation=45, ha='right')\n",
    "plt.tight_layout()\n",
    "plt.show()\n",
    "\n",
    "# Sort genres by total number of votes in descending order\n",
    "genre_ratings_votes_agg = genre_ratings_votes_agg.sort_values(by='numvotes', ascending=False)\n",
    "\n",
    "# Create a bar plot for total number of votes by genre\n",
    "plt.figure(figsize=(8, 6))\n",
    "sns.barplot(x='genre', y='numvotes', data=genre_ratings_votes_agg, palette='magma')\n",
    "plt.title('Total Number of Votes by Genre')\n",
    "plt.xlabel('Genre')\n",
    "plt.ylabel('Total Number of Votes')\n",
    "plt.xticks(rotation=45, ha='right')\n",
    "plt.tight_layout()\n",
    "plt.show()\n",
    "\n"
   ]
  },
  {
   "cell_type": "markdown",
   "metadata": {},
   "source": [
    "From the resulting data we can see that Documentaries genre has the highest rating of 7.289749, indicating that, on average, viewers have given them a positive score while Drama genre has an average rating of 6.380612 with a staggering number of votes, 83,274,770. This suggests that Drama movies are quite popular and have been watched and rated by a significant number of viewers.\n",
    "On the other hand, the Adult genre has the lowest average rating of 3.766667 and has received only 164 votes. This indicates that Adult movies, on average, are not as well-received and are watched and rated by fewer viewers\n",
    "\n",
    "We can conclude by saying that Documetaries and Drama would give better audience interaction and ratings"
   ]
  },
  {
   "cell_type": "markdown",
   "metadata": {},
   "source": [
    "### Investigating the relationship between the duration of a title and its average rating"
   ]
  },
  {
   "cell_type": "code",
   "execution_count": 28,
   "metadata": {
    "scrolled": true
   },
   "outputs": [
    {
     "data": {
      "image/png": "[encoded data removed]",
      "text/plain": [
       "<Figure size 576x432 with 1 Axes>"
      ]
     },
     "metadata": {
      "needs_background": "light"
     },
     "output_type": "display_data"
    },
    {
     "ename": "NameError",
     "evalue": "name 'combined_Title_Rating_Gross' is not defined",
     "output_type": "error",
     "traceback": [
      "\u001b[1;31m---------------------------------------------------------------------------\u001b[0m",
      "\u001b[1;31mNameError\u001b[0m                                 Traceback (most recent call last)",
      "\u001b[1;32m<ipython-input-28-d84af98cdc14>\u001b[0m in \u001b[0;36m<module>\u001b[1;34m\u001b[0m\n\u001b[0;32m      8\u001b[0m \u001b[0mplt\u001b[0m\u001b[1;33m.\u001b[0m\u001b[0mshow\u001b[0m\u001b[1;33m(\u001b[0m\u001b[1;33m)\u001b[0m\u001b[1;33m\u001b[0m\u001b[1;33m\u001b[0m\u001b[0m\n\u001b[0;32m      9\u001b[0m \u001b[1;33m\u001b[0m\u001b[0m\n\u001b[1;32m---> 10\u001b[1;33m \u001b[0mduration_averagerating_correlation\u001b[0m \u001b[1;33m=\u001b[0m \u001b[0mcombined_Title_Rating_Gross\u001b[0m\u001b[1;33m[\u001b[0m\u001b[1;33m[\u001b[0m\u001b[1;34m'runtime_minutes'\u001b[0m\u001b[1;33m,\u001b[0m \u001b[1;34m'averagerating'\u001b[0m\u001b[1;33m]\u001b[0m\u001b[1;33m]\u001b[0m\u001b[1;33m.\u001b[0m\u001b[0mcorr\u001b[0m\u001b[1;33m(\u001b[0m\u001b[1;33m)\u001b[0m\u001b[1;33m\u001b[0m\u001b[1;33m\u001b[0m\u001b[0m\n\u001b[0m\u001b[0;32m     11\u001b[0m \u001b[0mprint\u001b[0m\u001b[1;33m(\u001b[0m\u001b[0mduration_averagerating_correlation\u001b[0m\u001b[1;33m)\u001b[0m\u001b[1;33m\u001b[0m\u001b[1;33m\u001b[0m\u001b[0m\n\u001b[0;32m     12\u001b[0m \u001b[1;33m\u001b[0m\u001b[0m\n",
      "\u001b[1;31mNameError\u001b[0m: name 'combined_Title_Rating_Gross' is not defined"
     ]
    }
   ],
   "source": [
    "# Create a scatter plot for duration versus average rating\n",
    "plt.figure(figsize=(8, 6))\n",
    "sns.scatterplot(x='runtime_minutes', y='averagerating', data=Title_Rating_Merge, color='green')\n",
    "plt.title('Duration vs. Average Rating')\n",
    "plt.xlabel('Duration (minutes)')\n",
    "plt.ylabel('Average Rating')\n",
    "plt.tight_layout()\n",
    "plt.show()\n",
    "\n",
    "duration_averagerating_correlation = combined_Title_Rating_Gross[['runtime_minutes', 'averagerating']].corr()\n",
    "print(duration_averagerating_correlation)\n",
    "\n",
    "# Create a heatmap to visualize the correlation\n",
    "plt.figure(figsize=(8, 6))\n",
    "sns.heatmap(duration_averagerating_correlation, annot=True, cmap= 'PuBuGn', fmt='.2f')\n",
    "plt.title('Correlation between Duration and Average Rating')\n",
    "plt.show()\n"
   ]
  },
  {
   "cell_type": "markdown",
   "metadata": {},
   "source": [
    "From the the results we can see that he rating are evenly distributed on all the time. We can confidently conclude that the duration of the movie does not affect the rating of the movies"
   ]
  },
  {
   "cell_type": "markdown",
   "metadata": {},
   "source": [
    "## Title and Rating Data Merge with Movies Gross Data\n",
    "Now we will combine all our data into one combined data to allow us to analyze how they are all related"
   ]
  },
  {
   "cell_type": "code",
   "execution_count": 29,
   "metadata": {
    "scrolled": true
   },
   "outputs": [
    {
     "name": "stdout",
     "output_type": "stream",
     "text": [
      "<class 'pandas.core.frame.DataFrame'>\n",
      "Int64Index: 2530 entries, 0 to 2529\n",
      "Data columns (total 11 columns):\n",
      " #   Column           Non-Null Count  Dtype  \n",
      "---  ------           --------------  -----  \n",
      " 0   tconst           2530 non-null   object \n",
      " 1   primary_title    2530 non-null   object \n",
      " 2   start_year       2530 non-null   int64  \n",
      " 3   runtime_minutes  2530 non-null   float64\n",
      " 4   genres           2530 non-null   object \n",
      " 5   averagerating    2530 non-null   float64\n",
      " 6   numvotes         2530 non-null   int64  \n",
      " 7   studio           2530 non-null   object \n",
      " 8   domestic_gross   2530 non-null   float64\n",
      " 9   foreign_gross    2530 non-null   float64\n",
      " 10  year             2530 non-null   int64  \n",
      "dtypes: float64(4), int64(3), object(4)\n",
      "memory usage: 237.2+ KB\n"
     ]
    },
    {
     "data": {
      "text/plain": [
       "Index(['tconst', 'primary_title', 'start_year', 'runtime_minutes', 'genres',\n",
       "       'averagerating', 'numvotes', 'studio', 'domestic_gross',\n",
       "       'foreign_gross', 'year'],\n",
       "      dtype='object')"
      ]
     },
     "execution_count": 29,
     "metadata": {},
     "output_type": "execute_result"
    }
   ],
   "source": [
    "# Performing an inner merge based on 'primary_title' and 'title'\n",
    "combined_Title_Rating_Gross = Title_Rating_Merge.merge(df_Movie_gross, left_on='primary_title', right_on='title', how='inner')\n",
    "\n",
    "# Step 2: Drop the duplicate 'title' column from the merged DataFrame\n",
    "combined_Title_Rating_Gross.drop('title', axis=1, inplace=True)\n",
    "# Display the new combined_Title_Rating_Gross DataFrame\n",
    "# combined_Title_Rating_Gross.head()\n",
    "combined_Title_Rating_Gross.info()\n",
    "combined_Title_Rating_Gross.columns"
   ]
  },
  {
   "cell_type": "markdown",
   "metadata": {},
   "source": [
    "Now adding a total gross revenue column to the marged data"
   ]
  },
  {
   "cell_type": "code",
   "execution_count": 30,
   "metadata": {},
   "outputs": [
    {
     "data": {
      "text/html": [
       "<div>\n",
       "<style scoped>\n",
       "    .dataframe tbody tr th:only-of-type {\n",
       "        vertical-align: middle;\n",
       "    }\n",
       "\n",
       "    .dataframe tbody tr th {\n",
       "        vertical-align: top;\n",
       "    }\n",
       "\n",
       "    .dataframe thead th {\n",
       "        text-align: right;\n",
       "    }\n",
       "</style>\n",
       "<table border=\"1\" class=\"dataframe\">\n",
       "  <thead>\n",
       "    <tr style=\"text-align: right;\">\n",
       "      <th></th>\n",
       "      <th>tconst</th>\n",
       "      <th>primary_title</th>\n",
       "      <th>start_year</th>\n",
       "      <th>runtime_minutes</th>\n",
       "      <th>genres</th>\n",
       "      <th>averagerating</th>\n",
       "      <th>numvotes</th>\n",
       "      <th>studio</th>\n",
       "      <th>domestic_gross</th>\n",
       "      <th>foreign_gross</th>\n",
       "      <th>year</th>\n",
       "      <th>total_gross</th>\n",
       "    </tr>\n",
       "  </thead>\n",
       "  <tbody>\n",
       "    <tr>\n",
       "      <th>0</th>\n",
       "      <td>tt0315642</td>\n",
       "      <td>Wazir</td>\n",
       "      <td>2016</td>\n",
       "      <td>103.0</td>\n",
       "      <td>Action,Crime,Drama</td>\n",
       "      <td>7.1</td>\n",
       "      <td>15378</td>\n",
       "      <td>Relbig.</td>\n",
       "      <td>1100000.0</td>\n",
       "      <td>7.505704e+07</td>\n",
       "      <td>2016</td>\n",
       "      <td>7.615704e+07</td>\n",
       "    </tr>\n",
       "    <tr>\n",
       "      <th>1</th>\n",
       "      <td>tt0337692</td>\n",
       "      <td>On the Road</td>\n",
       "      <td>2012</td>\n",
       "      <td>124.0</td>\n",
       "      <td>Adventure,Drama,Romance</td>\n",
       "      <td>6.1</td>\n",
       "      <td>37886</td>\n",
       "      <td>IFC</td>\n",
       "      <td>744000.0</td>\n",
       "      <td>8.000000e+06</td>\n",
       "      <td>2012</td>\n",
       "      <td>8.744000e+06</td>\n",
       "    </tr>\n",
       "    <tr>\n",
       "      <th>2</th>\n",
       "      <td>tt4339118</td>\n",
       "      <td>On the Road</td>\n",
       "      <td>2014</td>\n",
       "      <td>89.0</td>\n",
       "      <td>Drama</td>\n",
       "      <td>6.0</td>\n",
       "      <td>6</td>\n",
       "      <td>IFC</td>\n",
       "      <td>744000.0</td>\n",
       "      <td>8.000000e+06</td>\n",
       "      <td>2012</td>\n",
       "      <td>8.744000e+06</td>\n",
       "    </tr>\n",
       "    <tr>\n",
       "      <th>3</th>\n",
       "      <td>tt5647250</td>\n",
       "      <td>On the Road</td>\n",
       "      <td>2016</td>\n",
       "      <td>121.0</td>\n",
       "      <td>Drama</td>\n",
       "      <td>5.7</td>\n",
       "      <td>127</td>\n",
       "      <td>IFC</td>\n",
       "      <td>744000.0</td>\n",
       "      <td>8.000000e+06</td>\n",
       "      <td>2012</td>\n",
       "      <td>8.744000e+06</td>\n",
       "    </tr>\n",
       "    <tr>\n",
       "      <th>4</th>\n",
       "      <td>tt0359950</td>\n",
       "      <td>The Secret Life of Walter Mitty</td>\n",
       "      <td>2013</td>\n",
       "      <td>114.0</td>\n",
       "      <td>Adventure,Comedy,Drama</td>\n",
       "      <td>7.3</td>\n",
       "      <td>275300</td>\n",
       "      <td>Fox</td>\n",
       "      <td>58200000.0</td>\n",
       "      <td>1.299000e+08</td>\n",
       "      <td>2013</td>\n",
       "      <td>1.881000e+08</td>\n",
       "    </tr>\n",
       "    <tr>\n",
       "      <th>...</th>\n",
       "      <td>...</td>\n",
       "      <td>...</td>\n",
       "      <td>...</td>\n",
       "      <td>...</td>\n",
       "      <td>...</td>\n",
       "      <td>...</td>\n",
       "      <td>...</td>\n",
       "      <td>...</td>\n",
       "      <td>...</td>\n",
       "      <td>...</td>\n",
       "      <td>...</td>\n",
       "      <td>...</td>\n",
       "    </tr>\n",
       "    <tr>\n",
       "      <th>2525</th>\n",
       "      <td>tt8119752</td>\n",
       "      <td>Gonjiam: Haunted Asylum</td>\n",
       "      <td>2018</td>\n",
       "      <td>95.0</td>\n",
       "      <td>Horror,Mystery</td>\n",
       "      <td>6.1</td>\n",
       "      <td>2585</td>\n",
       "      <td>WGUSA</td>\n",
       "      <td>115000.0</td>\n",
       "      <td>7.505704e+07</td>\n",
       "      <td>2018</td>\n",
       "      <td>7.517204e+07</td>\n",
       "    </tr>\n",
       "    <tr>\n",
       "      <th>2526</th>\n",
       "      <td>tt8331988</td>\n",
       "      <td>The Chambermaid</td>\n",
       "      <td>2018</td>\n",
       "      <td>102.0</td>\n",
       "      <td>Drama</td>\n",
       "      <td>7.1</td>\n",
       "      <td>147</td>\n",
       "      <td>FM</td>\n",
       "      <td>300.0</td>\n",
       "      <td>7.505704e+07</td>\n",
       "      <td>2015</td>\n",
       "      <td>7.505734e+07</td>\n",
       "    </tr>\n",
       "    <tr>\n",
       "      <th>2527</th>\n",
       "      <td>tt8404272</td>\n",
       "      <td>How Long Will I Love U</td>\n",
       "      <td>2018</td>\n",
       "      <td>101.0</td>\n",
       "      <td>Romance</td>\n",
       "      <td>6.5</td>\n",
       "      <td>607</td>\n",
       "      <td>WGUSA</td>\n",
       "      <td>747000.0</td>\n",
       "      <td>8.210000e+07</td>\n",
       "      <td>2018</td>\n",
       "      <td>8.284700e+07</td>\n",
       "    </tr>\n",
       "    <tr>\n",
       "      <th>2528</th>\n",
       "      <td>tt9078374</td>\n",
       "      <td>Last Letter</td>\n",
       "      <td>2018</td>\n",
       "      <td>114.0</td>\n",
       "      <td>Drama,Romance</td>\n",
       "      <td>6.4</td>\n",
       "      <td>322</td>\n",
       "      <td>CL</td>\n",
       "      <td>181000.0</td>\n",
       "      <td>7.505704e+07</td>\n",
       "      <td>2018</td>\n",
       "      <td>7.523804e+07</td>\n",
       "    </tr>\n",
       "    <tr>\n",
       "      <th>2529</th>\n",
       "      <td>tt9151704</td>\n",
       "      <td>Burn the Stage: The Movie</td>\n",
       "      <td>2018</td>\n",
       "      <td>84.0</td>\n",
       "      <td>Documentary,Music</td>\n",
       "      <td>8.8</td>\n",
       "      <td>2067</td>\n",
       "      <td>Trafalgar</td>\n",
       "      <td>4200000.0</td>\n",
       "      <td>1.610000e+07</td>\n",
       "      <td>2018</td>\n",
       "      <td>2.030000e+07</td>\n",
       "    </tr>\n",
       "  </tbody>\n",
       "</table>\n",
       "<p>2530 rows × 12 columns</p>\n",
       "</div>"
      ],
      "text/plain": [
       "         tconst                    primary_title  start_year  runtime_minutes  \\\n",
       "0     tt0315642                            Wazir        2016            103.0   \n",
       "1     tt0337692                      On the Road        2012            124.0   \n",
       "2     tt4339118                      On the Road        2014             89.0   \n",
       "3     tt5647250                      On the Road        2016            121.0   \n",
       "4     tt0359950  The Secret Life of Walter Mitty        2013            114.0   \n",
       "...         ...                              ...         ...              ...   \n",
       "2525  tt8119752          Gonjiam: Haunted Asylum        2018             95.0   \n",
       "2526  tt8331988                  The Chambermaid        2018            102.0   \n",
       "2527  tt8404272           How Long Will I Love U        2018            101.0   \n",
       "2528  tt9078374                      Last Letter        2018            114.0   \n",
       "2529  tt9151704        Burn the Stage: The Movie        2018             84.0   \n",
       "\n",
       "                       genres  averagerating  numvotes     studio  \\\n",
       "0          Action,Crime,Drama            7.1     15378    Relbig.   \n",
       "1     Adventure,Drama,Romance            6.1     37886        IFC   \n",
       "2                       Drama            6.0         6        IFC   \n",
       "3                       Drama            5.7       127        IFC   \n",
       "4      Adventure,Comedy,Drama            7.3    275300        Fox   \n",
       "...                       ...            ...       ...        ...   \n",
       "2525           Horror,Mystery            6.1      2585      WGUSA   \n",
       "2526                    Drama            7.1       147         FM   \n",
       "2527                  Romance            6.5       607      WGUSA   \n",
       "2528            Drama,Romance            6.4       322         CL   \n",
       "2529        Documentary,Music            8.8      2067  Trafalgar   \n",
       "\n",
       "      domestic_gross  foreign_gross  year   total_gross  \n",
       "0          1100000.0   7.505704e+07  2016  7.615704e+07  \n",
       "1           744000.0   8.000000e+06  2012  8.744000e+06  \n",
       "2           744000.0   8.000000e+06  2012  8.744000e+06  \n",
       "3           744000.0   8.000000e+06  2012  8.744000e+06  \n",
       "4         58200000.0   1.299000e+08  2013  1.881000e+08  \n",
       "...              ...            ...   ...           ...  \n",
       "2525        115000.0   7.505704e+07  2018  7.517204e+07  \n",
       "2526           300.0   7.505704e+07  2015  7.505734e+07  \n",
       "2527        747000.0   8.210000e+07  2018  8.284700e+07  \n",
       "2528        181000.0   7.505704e+07  2018  7.523804e+07  \n",
       "2529       4200000.0   1.610000e+07  2018  2.030000e+07  \n",
       "\n",
       "[2530 rows x 12 columns]"
      ]
     },
     "execution_count": 30,
     "metadata": {},
     "output_type": "execute_result"
    }
   ],
   "source": [
    "#Adding total gross column\n",
    "combined_Title_Rating_Gross['total_gross'] = combined_Title_Rating_Gross['domestic_gross'] + combined_Title_Rating_Gross['foreign_gross']\n",
    "combined_Title_Rating_Gross"
   ]
  },
  {
   "cell_type": "markdown",
   "metadata": {},
   "source": [
    "#### Investigating the correlation between gross of a movie and it's averagerating"
   ]
  },
  {
   "cell_type": "code",
   "execution_count": 31,
   "metadata": {},
   "outputs": [
    {
     "name": "stdout",
     "output_type": "stream",
     "text": [
      "               total_gross  averagerating\n",
      "total_gross       1.000000       0.071534\n",
      "averagerating     0.071534       1.000000\n"
     ]
    },
    {
     "data": {
      "image/png": "[encoded data removed]",
      "text/plain": [
       "<Figure size 576x432 with 2 Axes>"
      ]
     },
     "metadata": {
      "needs_background": "light"
     },
     "output_type": "display_data"
    }
   ],
   "source": [
    "# Calculate the correlation matrix\n",
    "gross_averagerating_correlation = combined_Title_Rating_Gross[['total_gross', 'averagerating']].corr()\n",
    "print(gross_averagerating_correlation)\n",
    "\n",
    "# Create a heatmap to visualize the correlation\n",
    "plt.figure(figsize=(8, 6))\n",
    "sns.heatmap(gross_averagerating_correlation, annot=True, cmap='viridis', fmt='.2f')\n",
    "plt.title('Correlation between Gross Revenue and Average Rating')\n",
    "plt.show()"
   ]
  },
  {
   "cell_type": "markdown",
   "metadata": {},
   "source": [
    "From the data we can see there is a positive but weak correlation between gross revenue and it's averagerating.\n",
    "This means we will recommend for all the movies to aim at getting higher ratings"
   ]
  },
  {
   "cell_type": "markdown",
   "metadata": {},
   "source": [
    "#### Investigetting the highest grossing genres"
   ]
  },
  {
   "cell_type": "code",
   "execution_count": 32,
   "metadata": {},
   "outputs": [
    {
     "name": "stdout",
     "output_type": "stream",
     "text": [
      "          genre  foreign_gross  domestic_gross\n",
      "0        Action   9.733549e+07    4.459468e+07\n",
      "1     Adventure   1.479219e+08    7.339713e+07\n",
      "2     Animation   1.840811e+08    9.048703e+07\n",
      "3     Biography   5.343471e+07    1.362742e+07\n",
      "4        Comedy   7.487339e+07    3.614172e+07\n",
      "5         Crime   4.789612e+07    2.294187e+07\n",
      "6   Documentary   6.048852e+07    1.383422e+07\n",
      "7         Drama   5.313130e+07    1.466864e+07\n",
      "8        Family   7.896984e+07    4.305242e+07\n",
      "9       Fantasy   9.186447e+07    3.687467e+07\n",
      "10      History   5.580131e+07    1.429707e+07\n",
      "11       Horror   5.823745e+07    2.666465e+07\n",
      "12        Music   4.352373e+07    1.470982e+07\n",
      "13      Musical   8.471271e+07    4.497963e+07\n",
      "14      Mystery   5.749897e+07    2.159876e+07\n",
      "15         News   6.709278e+07    5.410350e+06\n",
      "16      Romance   5.180217e+07    1.686673e+07\n",
      "17       Sci-Fi   1.052660e+08    6.193067e+07\n",
      "18        Sport   7.666866e+07    3.929691e+07\n",
      "19     Thriller   6.169143e+07    2.371612e+07\n",
      "20          War   5.648385e+07    3.839649e+06\n",
      "21      Western   4.857273e+07    1.393063e+07\n"
     ]
    }
   ],
   "source": [
    "\n",
    "\n",
    "# Create a new DataFrame to extract genres and corresponding gross\n",
    "genre_gross = combined_Title_Rating_Gross['genres'].str.split(',', expand=True).stack().reset_index(level=1, drop=True).rename('genre')\n",
    "genre_gross_merge = pd.merge(genre_gross, combined_Title_Rating_Gross[['foreign_gross', 'domestic_gross']], left_index=True, right_index=True)\n",
    "\n",
    "\n",
    "# Calculating the mean average foreign and domestic gross for each genre\n",
    "genre_gross_merg_agg = genre_gross_merge.groupby('genre').agg({'foreign_gross': 'mean', 'domestic_gross': 'mean'}).reset_index()\n",
    "\n",
    "print(genre_gross_merg_agg)\n",
    "# # Sort genres by foreign gross in descending order\n",
    "# genre_gross_merg_agg = genre_ratings_votes_agg.sort_values(by='foreign_gross', ascending=False)\n",
    "\n",
    "# # Sort genres by domestic gross in descending order\n",
    "# genre_gross_merg_domestic_agg = genre_ratings_votes_agg.sort_values(by='domestic_gross', ascending=False)\n",
    "\n",
    "# # Plot the top genres with the highest domestic gross revenue\n",
    "# plt.figure(figsize=(10, 6))\n",
    "# sns.barplot(x=genre_gross_merg_domestic_agg['genre'], y=genre_gross_merg_domestic_agg['domestic_gross'], palette='viridis')\n",
    "# plt.xticks(rotation=90)\n",
    "# plt.title('Top Genres by domestic gross Revenue')\n",
    "# plt.xlabel('Genre')\n",
    "# plt.ylabel('domestic gross Revenue (USD)')\n",
    "# plt.tight_layout()\n",
    "# plt.show()\n",
    "\n",
    "\n",
    "# # Plot the top genres with the highest foreign gross revenue\n",
    "# plt.figure(figsize=(10, 6))\n",
    "# sns.barplot(x=genre_gross_merg_agg['genre'], y=genre_gross_merg_agg['foreign_gross'], palette='viridis')\n",
    "# plt.xticks(rotation=90)\n",
    "# plt.title('Top Genres by foreign gross Revenue')\n",
    "# plt.xlabel('Genre')\n",
    "# plt.ylabel('foreign_gross Revenue (USD)')\n",
    "# plt.tight_layout()\n",
    "# plt.show()\n",
    "\n",
    "\n"
   ]
  },
  {
   "cell_type": "code",
   "execution_count": 33,
   "metadata": {},
   "outputs": [
    {
     "name": "stdout",
     "output_type": "stream",
     "text": [
      "          genre   total_gross\n",
      "2     Animation  2.745681e+08\n",
      "1     Adventure  2.213190e+08\n",
      "17       Sci-Fi  1.671966e+08\n",
      "0        Action  1.419302e+08\n",
      "13      Musical  1.296923e+08\n",
      "9       Fantasy  1.287391e+08\n",
      "8        Family  1.220223e+08\n",
      "18        Sport  1.159656e+08\n",
      "4        Comedy  1.110151e+08\n",
      "19     Thriller  8.540755e+07\n",
      "11       Horror  8.490210e+07\n",
      "14      Mystery  7.909773e+07\n",
      "6   Documentary  7.432274e+07\n",
      "15         News  7.250313e+07\n",
      "5         Crime  7.083799e+07\n",
      "10      History  7.009838e+07\n",
      "16      Romance  6.866889e+07\n",
      "7         Drama  6.779994e+07\n",
      "3     Biography  6.706213e+07\n",
      "21      Western  6.250336e+07\n",
      "20          War  6.032349e+07\n",
      "12        Music  5.823354e+07\n"
     ]
    },
    {
     "data": {
      "image/png": "[encoded data removed]",
      "text/plain": [
       "<Figure size 720x432 with 1 Axes>"
      ]
     },
     "metadata": {
      "needs_background": "light"
     },
     "output_type": "display_data"
    }
   ],
   "source": [
    "# Create a new DataFrame to extract genres and corresponding gross\n",
    "genre_gross = combined_Title_Rating_Gross['genres'].str.split(',', expand=True).stack().reset_index(level=1, drop=True).rename('genre')\n",
    "genre_gross_merge = pd.merge(genre_gross, combined_Title_Rating_Gross['total_gross'], left_index=True, right_index=True)\n",
    "\n",
    "\n",
    "# Calculating the mean average foreign and domestic gross for each genre\n",
    "genre_gross_merg_agg = genre_gross_merge.groupby('genre').agg({'total_gross': 'mean'}).reset_index()\n",
    "\n",
    "# Sort genres by foreign gross in descending order\n",
    "genre_gross_merg_agg = genre_gross_merg_agg.sort_values(by='total_gross', ascending=False)\n",
    "print(genre_gross_merg_agg)\n",
    "\n",
    "# Sort genres by domestic gross in descending order\n",
    "# genre_gross_merg_domestic_agg = genre_gross_merg_agg.sort_values(by='domestic_gross', ascending=False)\n",
    "# print(genre_gross_merg_domestic_agg)\n",
    "# Plot the top genres with the highest foreign gross revenue\n",
    "plt.figure(figsize=(10, 6))\n",
    "sns.barplot(x=genre_gross_merg_agg['genre'], y=genre_gross_merg_agg['total_gross'], palette='viridis')\n",
    "plt.xticks(rotation=45)\n",
    "plt.title('Top Genres by Total Gross Revenue')\n",
    "plt.xlabel('Genre')\n",
    "plt.ylabel('Total Gross Revenue (USD)')\n",
    "plt.tight_layout()\n",
    "plt.show()"
   ]
  },
  {
   "cell_type": "markdown",
   "metadata": {},
   "source": [
    "From the above data we can tell that the top genres ranked by total gross revenue are Animation, Adventure, and Sci-Fi, indicating their potential for significant financial success at the box office.\n",
    "\n",
    "Animation: As the highest-grossing genre, Animation boasts an average total gross revenue of approximately $274.6 million. The popularity of animated films, especially among family audiences, contributes to their strong financial performance.\n",
    "\n",
    "Adventure: Adventure films secure the second spot, with an average total gross revenue of about $$221.3 million. The genre's captivating storytelling and thrilling experiences appeal to broad audiences, making it a promising choice for movie studio ventures.\n",
    "\n",
    "Sci-Fi: Ranking third, Sci-Fi films exhibit an average total gross revenue of around $$167.2 million. The genre's imaginative narratives and technological elements attract audiences seeking futuristic and otherworldly experiences.\n",
    "\n",
    "Other Promising Genres: Action, Musical, and Fantasy follow closely in terms of total gross revenue, offering lucrative opportunities for Microsoft's movie studio.\n",
    "\n"
   ]
  },
  {
   "cell_type": "markdown",
   "metadata": {},
   "source": [
    "### Business Recommendations and conclusion\n",
    "Base on all the analysis done in this EDA and in alignment with both the problem statement and also the compeling data analysis we will recommend the following to the Head of Microsoft's Movie studio\n",
    "\n",
    "1. **Focus on Top-Performing Genres:** Based on our analysis, genres such as Animation, Adventure, and Sci-Fi have demonstrated significant financial success in terms of total gross revenue. Microsoft Studio should prioritize producing films in these top-performing genres to enhance the likelihood of box office success.\n",
    "\n",
    "2. **Strategic Genre Diversification:** While concentrating on high-grossing genres, the studio should also explore a diversified portfolio of films across various genres. This approach will enable the studio to appeal to diverse audience segments and broaden its market reach.\n",
    "\n",
    "3. **Invest in Quality Storytelling and Talent:** Regardless of the genre, the key to success lies in compelling storytelling and talented cast and crew. Microsoft Studio should allocate resources to develop engaging narratives, collaborate with experienced filmmakers, and cast skilled actors to deliver exceptional cinematic experiences.\n",
    "\n",
    "4. **Embrace Data-Driven Decision Making:** Leverage the power of data analytics and audience insights to drive decision-making processes. Analyzing viewer preferences, market trends, and industry benchmarks will inform content creation, marketing strategies, and release schedules."
   ]
  }
 ],
 "metadata": {
  "kernelspec": {
   "display_name": "Python 3",
   "language": "python",
   "name": "python3"
  },
  "language_info": {
   "codemirror_mode": {
    "name": "ipython",
    "version": 3
   },
   "file_extension": ".py",
   "mimetype": "text/x-python",
   "name": "python",
   "nbconvert_exporter": "python",
   "pygments_lexer": "ipython3",
   "version": "3.8.5"
  }
 },
 "nbformat": 4,
 "nbformat_minor": 2
}
